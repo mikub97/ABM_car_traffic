{
 "cells": [
  {
   "cell_type": "code",
   "execution_count": 2,
   "id": "7bca4098",
   "metadata": {
    "pycharm": {
     "is_executing": true
    }
   },
   "outputs": [],
   "source": [
    "import pandas as pd\n",
    "import numpy as np\n",
    "import json\n"
   ]
  },
  {
   "cell_type": "code",
   "execution_count": 3,
   "id": "21ebefd1",
   "metadata": {},
   "outputs": [],
   "source": [
    "experiment = \"experiment-traffic-lights\"\n",
    "with open(f'traffic/input_files/{experiment}/traffic.json', \"r\") as read_file:\n",
    "    drivers_input_data = json.load(read_file)\n",
    "with open(f'traffic/input_files/{experiment}/drivers.json', \"r\") as read_file:\n",
    "    traffic_input_data = json.load(read_file)\n",
    "with open(f'traffic/input_files/{experiment}/lights.json', \"r\") as read_file:\n",
    "    lights_input_data = json.load(read_file)"
   ]
  },
  {
   "cell_type": "code",
   "execution_count": 4,
   "id": "1d89f87a",
   "metadata": {},
   "outputs": [
    {
     "data": {
      "text/html": [
       "<div>\n",
       "<style scoped>\n",
       "    .dataframe tbody tr th:only-of-type {\n",
       "        vertical-align: middle;\n",
       "    }\n",
       "\n",
       "    .dataframe tbody tr th {\n",
       "        vertical-align: top;\n",
       "    }\n",
       "\n",
       "    .dataframe thead th {\n",
       "        text-align: right;\n",
       "    }\n",
       "</style>\n",
       "<table border=\"1\" class=\"dataframe\">\n",
       "  <thead>\n",
       "    <tr style=\"text-align: right;\">\n",
       "      <th></th>\n",
       "      <th>n_agents</th>\n",
       "      <th>max_speed_avg</th>\n",
       "      <th>max_speed_dev</th>\n",
       "      <th>desired_distance_avg</th>\n",
       "      <th>desired_distance_dev</th>\n",
       "      <th>acceleration_avg</th>\n",
       "      <th>acceleration_dev</th>\n",
       "      <th>n_lanes</th>\n",
       "      <th>t_start</th>\n",
       "      <th>t_end</th>\n",
       "      <th>x_start</th>\n",
       "      <th>x_end</th>\n",
       "      <th>measure_point_x</th>\n",
       "      <th>accepted_dist_delta</th>\n",
       "      <th>window_size</th>\n",
       "      <th>average_velocity</th>\n",
       "      <th>rolling_average_density</th>\n",
       "      <th>rolling_average_flow</th>\n",
       "    </tr>\n",
       "  </thead>\n",
       "  <tbody>\n",
       "    <tr>\n",
       "      <th>0</th>\n",
       "      <td>25</td>\n",
       "      <td>2</td>\n",
       "      <td>0.4</td>\n",
       "      <td>30</td>\n",
       "      <td>0</td>\n",
       "      <td>1.5</td>\n",
       "      <td>0.3</td>\n",
       "      <td>3</td>\n",
       "      <td>222</td>\n",
       "      <td>756</td>\n",
       "      <td>500</td>\n",
       "      <td>600</td>\n",
       "      <td>500</td>\n",
       "      <td>10</td>\n",
       "      <td>100</td>\n",
       "      <td>2.022152</td>\n",
       "      <td>0.023832</td>\n",
       "      <td>5.2</td>\n",
       "    </tr>\n",
       "  </tbody>\n",
       "</table>\n",
       "</div>"
      ],
      "text/plain": [
       "   n_agents  max_speed_avg  max_speed_dev  desired_distance_avg  \\\n",
       "0        25              2            0.4                    30   \n",
       "\n",
       "   desired_distance_dev  acceleration_avg  acceleration_dev  n_lanes  t_start  \\\n",
       "0                     0               1.5               0.3        3      222   \n",
       "\n",
       "   t_end  x_start  x_end  measure_point_x  accepted_dist_delta  window_size  \\\n",
       "0    756      500    600              500                   10          100   \n",
       "\n",
       "   average_velocity  rolling_average_density  rolling_average_flow  \n",
       "0          2.022152                 0.023832                   5.2  "
      ]
     },
     "execution_count": 4,
     "metadata": {},
     "output_type": "execute_result"
    }
   ],
   "source": [
    "experiment_results = pd.read_csv(f'traffic/output_files/{experiment}/measures_files.csv').drop([\"Unnamed: 0\"],axis=1)\n",
    "\n",
    "experiment_results.head()"
   ]
  },
  {
   "cell_type": "code",
   "execution_count": 4,
   "id": "4e1f17c4",
   "metadata": {},
   "outputs": [
    {
     "data": {
      "text/html": [
       "<div>\n",
       "<style scoped>\n",
       "    .dataframe tbody tr th:only-of-type {\n",
       "        vertical-align: middle;\n",
       "    }\n",
       "\n",
       "    .dataframe tbody tr th {\n",
       "        vertical-align: top;\n",
       "    }\n",
       "\n",
       "    .dataframe thead th {\n",
       "        text-align: right;\n",
       "    }\n",
       "</style>\n",
       "<table border=\"1\" class=\"dataframe\">\n",
       "  <thead>\n",
       "    <tr style=\"text-align: right;\">\n",
       "      <th></th>\n",
       "      <th>Step</th>\n",
       "      <th>AgentID</th>\n",
       "      <th>X</th>\n",
       "      <th>Y</th>\n",
       "      <th>Velocity</th>\n",
       "      <th>Current_lane</th>\n",
       "      <th>Is_alive</th>\n",
       "    </tr>\n",
       "  </thead>\n",
       "  <tbody>\n",
       "    <tr>\n",
       "      <th>0</th>\n",
       "      <td>1</td>\n",
       "      <td>0</td>\n",
       "      <td>0.651541</td>\n",
       "      <td>100.000000</td>\n",
       "      <td>0.651541</td>\n",
       "      <td>1</td>\n",
       "      <td>True</td>\n",
       "    </tr>\n",
       "    <tr>\n",
       "      <th>1</th>\n",
       "      <td>1</td>\n",
       "      <td>1</td>\n",
       "      <td>0.782705</td>\n",
       "      <td>33.333333</td>\n",
       "      <td>0.782705</td>\n",
       "      <td>0</td>\n",
       "      <td>True</td>\n",
       "    </tr>\n",
       "    <tr>\n",
       "      <th>2</th>\n",
       "      <td>1</td>\n",
       "      <td>2</td>\n",
       "      <td>0.000000</td>\n",
       "      <td>100.000000</td>\n",
       "      <td>1.017921</td>\n",
       "      <td>1</td>\n",
       "      <td>False</td>\n",
       "    </tr>\n",
       "    <tr>\n",
       "      <th>3</th>\n",
       "      <td>1</td>\n",
       "      <td>3</td>\n",
       "      <td>0.000000</td>\n",
       "      <td>33.333333</td>\n",
       "      <td>0.733379</td>\n",
       "      <td>0</td>\n",
       "      <td>False</td>\n",
       "    </tr>\n",
       "    <tr>\n",
       "      <th>4</th>\n",
       "      <td>1</td>\n",
       "      <td>4</td>\n",
       "      <td>0.000000</td>\n",
       "      <td>33.333333</td>\n",
       "      <td>0.929101</td>\n",
       "      <td>0</td>\n",
       "      <td>False</td>\n",
       "    </tr>\n",
       "  </tbody>\n",
       "</table>\n",
       "</div>"
      ],
      "text/plain": [
       "   Step  AgentID         X           Y  Velocity  Current_lane  Is_alive\n",
       "0     1        0  0.651541  100.000000  0.651541             1      True\n",
       "1     1        1  0.782705   33.333333  0.782705             0      True\n",
       "2     1        2  0.000000  100.000000  1.017921             1     False\n",
       "3     1        3  0.000000   33.333333  0.733379             0     False\n",
       "4     1        4  0.000000   33.333333  0.929101             0     False"
      ]
     },
     "execution_count": 4,
     "metadata": {},
     "output_type": "execute_result"
    }
   ],
   "source": [
    "agent_data = pd.read_csv(f'traffic/output_files/{experiment}/agent_data.csv')\n",
    "agent_data[\"Velocity\"] = agent_data[\"Velocity\"].apply(lambda x: float(x.split(\" \")[0].replace(\"[\",\"\")))\n",
    "agent_data[\"Velocity\"] = agent_data[\"Velocity\"].astype(float)\n",
    "agent_data.head()"
   ]
  },
  {
   "cell_type": "code",
   "execution_count": 5,
   "id": "f4f8eca3",
   "metadata": {},
   "outputs": [
    {
     "data": {
      "image/png": "[encoded data removed]",
      "text/plain": [
       "<Figure size 640x480 with 1 Axes>"
      ]
     },
     "metadata": {},
     "output_type": "display_data"
    }
   ],
   "source": [
    "import matplotlib.pyplot as plt\n",
    "\n",
    "# Create a new figure and axis\n",
    "fig, ax = plt.subplots()\n",
    "\n",
    "ax.scatter(experiment_results['average_velocity'], \n",
    "           experiment_results['rolling_average_flow'], \n",
    "           color='blue')\n",
    "\n",
    "# Add labels and legend\n",
    "ax.set_xlabel('mean velocity')\n",
    "ax.set_ylabel('mean flow rate')\n",
    "# ax.legend()\n",
    "\n",
    "# Display the plot\n",
    "plt.show()"
   ]
  },
  {
   "cell_type": "code",
   "execution_count": 6,
   "id": "ebeb0a4e",
   "metadata": {},
   "outputs": [
    {
     "data": {
      "image/png": "[encoded data removed]",
      "text/plain": [
       "<Figure size 640x480 with 1 Axes>"
      ]
     },
     "metadata": {},
     "output_type": "display_data"
    }
   ],
   "source": [
    "# Create a new figure and axis\n",
    "fig, ax = plt.subplots()\n",
    "\n",
    "ax.scatter(experiment_results['average_velocity'], \n",
    "           experiment_results['rolling_average_density'], \n",
    "           color='blue')\n",
    "\n",
    "# Add labels and legend\n",
    "ax.set_xlabel('mean velocity')\n",
    "ax.set_ylabel('mean density')\n",
    "# ax.legend()\n",
    "\n",
    "# Display the plot\n",
    "plt.show()"
   ]
  },
  {
   "cell_type": "code",
   "execution_count": 7,
   "id": "1900f6b6",
   "metadata": {},
   "outputs": [
    {
     "data": {
      "image/png": "[encoded data removed]",
      "text/plain": [
       "<Figure size 640x480 with 1 Axes>"
      ]
     },
     "metadata": {},
     "output_type": "display_data"
    }
   ],
   "source": [
    "# Create a new figure and axis\n",
    "fig, ax = plt.subplots()\n",
    "\n",
    "ax.scatter(experiment_results['rolling_average_density'], \n",
    "           experiment_results['rolling_average_flow'], \n",
    "           color='blue')\n",
    "\n",
    "# Add labels and legend\n",
    "ax.set_xlabel('mean density')\n",
    "ax.set_ylabel('mean flow rate')\n",
    "# ax.legend()\n",
    "\n",
    "# Display the plot\n",
    "plt.show()"
   ]
  },
  {
   "cell_type": "code",
   "execution_count": null,
   "id": "ab0ca28e",
   "metadata": {},
   "outputs": [],
   "source": []
  }
 ],
 "metadata": {
  "kernelspec": {
   "display_name": "Python 3 (ipykernel)",
   "language": "python",
   "name": "python3"
  },
  "language_info": {
   "codemirror_mode": {
    "name": "ipython",
    "version": 3
   },
   "file_extension": ".py",
   "mimetype": "text/x-python",
   "name": "python",
   "nbconvert_exporter": "python",
   "pygments_lexer": "ipython3",
   "version": "3.10.9"
  }
 },
 "nbformat": 4,
 "nbformat_minor": 5
}
