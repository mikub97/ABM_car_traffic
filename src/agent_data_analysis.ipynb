{
 "cells": [
  {
   "cell_type": "code",
   "execution_count": 2,
   "id": "616faba9",
   "metadata": {},
   "outputs": [],
   "source": [
    "import pandas as pd\n",
    "import numpy as np\n",
    "import json"
   ]
  },
  {
   "cell_type": "code",
   "execution_count": 3,
   "id": "bfe772ca",
   "metadata": {},
   "outputs": [],
   "source": [
    "experiment = \"experiment-traffic-lights\""
   ]
  },
  {
   "cell_type": "markdown",
   "id": "c5aa0527",
   "metadata": {},
   "source": [
    "### Reading input data"
   ]
  },
  {
   "cell_type": "code",
   "execution_count": 4,
   "id": "f8337549",
   "metadata": {},
   "outputs": [],
   "source": [
    "with open(f'traffic/input_files/{experiment}/traffic.json', \"r\") as read_file:\n",
    "    drivers_input_data = json.load(read_file)\n",
    "with open(f'traffic/input_files/{experiment}/drivers.json', \"r\") as read_file:\n",
    "    traffic_input_data = json.load(read_file)\n",
    "with open(f'traffic/input_files/{experiment}/lights.json', \"r\") as read_file:\n",
    "    lights_input_data = json.load(read_file)"
   ]
  },
  {
   "cell_type": "code",
   "execution_count": null,
   "id": "4ed1fac4",
   "metadata": {},
   "outputs": [],
   "source": []
  },
  {
   "cell_type": "markdown",
   "id": "73e274d1",
   "metadata": {},
   "source": [
    "### Reading output data"
   ]
  },
  {
   "cell_type": "code",
   "execution_count": 12,
   "id": "91e956ee",
   "metadata": {},
   "outputs": [
    {
     "data": {
      "text/html": [
       "<div>\n",
       "<style scoped>\n",
       "    .dataframe tbody tr th:only-of-type {\n",
       "        vertical-align: middle;\n",
       "    }\n",
       "\n",
       "    .dataframe tbody tr th {\n",
       "        vertical-align: top;\n",
       "    }\n",
       "\n",
       "    .dataframe thead th {\n",
       "        text-align: right;\n",
       "    }\n",
       "</style>\n",
       "<table border=\"1\" class=\"dataframe\">\n",
       "  <thead>\n",
       "    <tr style=\"text-align: right;\">\n",
       "      <th></th>\n",
       "      <th>Step</th>\n",
       "      <th>AgentID</th>\n",
       "      <th>X</th>\n",
       "      <th>Y</th>\n",
       "      <th>Velocity</th>\n",
       "      <th>Current_lane</th>\n",
       "      <th>Is_alive</th>\n",
       "    </tr>\n",
       "  </thead>\n",
       "  <tbody>\n",
       "    <tr>\n",
       "      <th>110337</th>\n",
       "      <td>14132</td>\n",
       "      <td>40</td>\n",
       "      <td>0.387640</td>\n",
       "      <td>100.0</td>\n",
       "      <td>0.433468</td>\n",
       "      <td>1</td>\n",
       "      <td>True</td>\n",
       "    </tr>\n",
       "    <tr>\n",
       "      <th>110347</th>\n",
       "      <td>14133</td>\n",
       "      <td>40</td>\n",
       "      <td>0.776280</td>\n",
       "      <td>100.0</td>\n",
       "      <td>0.433468</td>\n",
       "      <td>1</td>\n",
       "      <td>True</td>\n",
       "    </tr>\n",
       "    <tr>\n",
       "      <th>110357</th>\n",
       "      <td>14134</td>\n",
       "      <td>40</td>\n",
       "      <td>1.165920</td>\n",
       "      <td>100.0</td>\n",
       "      <td>0.433468</td>\n",
       "      <td>1</td>\n",
       "      <td>True</td>\n",
       "    </tr>\n",
       "    <tr>\n",
       "      <th>110367</th>\n",
       "      <td>14135</td>\n",
       "      <td>40</td>\n",
       "      <td>1.556560</td>\n",
       "      <td>100.0</td>\n",
       "      <td>0.433468</td>\n",
       "      <td>1</td>\n",
       "      <td>True</td>\n",
       "    </tr>\n",
       "    <tr>\n",
       "      <th>110377</th>\n",
       "      <td>14136</td>\n",
       "      <td>40</td>\n",
       "      <td>1.948200</td>\n",
       "      <td>100.0</td>\n",
       "      <td>0.433468</td>\n",
       "      <td>1</td>\n",
       "      <td>True</td>\n",
       "    </tr>\n",
       "    <tr>\n",
       "      <th>...</th>\n",
       "      <td>...</td>\n",
       "      <td>...</td>\n",
       "      <td>...</td>\n",
       "      <td>...</td>\n",
       "      <td>...</td>\n",
       "      <td>...</td>\n",
       "      <td>...</td>\n",
       "    </tr>\n",
       "    <tr>\n",
       "      <th>136065</th>\n",
       "      <td>16897</td>\n",
       "      <td>40</td>\n",
       "      <td>1197.898961</td>\n",
       "      <td>100.0</td>\n",
       "      <td>0.433468</td>\n",
       "      <td>1</td>\n",
       "      <td>True</td>\n",
       "    </tr>\n",
       "    <tr>\n",
       "      <th>136070</th>\n",
       "      <td>16898</td>\n",
       "      <td>40</td>\n",
       "      <td>1198.332429</td>\n",
       "      <td>100.0</td>\n",
       "      <td>0.433468</td>\n",
       "      <td>1</td>\n",
       "      <td>True</td>\n",
       "    </tr>\n",
       "    <tr>\n",
       "      <th>136075</th>\n",
       "      <td>16899</td>\n",
       "      <td>40</td>\n",
       "      <td>1198.765897</td>\n",
       "      <td>100.0</td>\n",
       "      <td>0.433468</td>\n",
       "      <td>1</td>\n",
       "      <td>True</td>\n",
       "    </tr>\n",
       "    <tr>\n",
       "      <th>136080</th>\n",
       "      <td>16900</td>\n",
       "      <td>40</td>\n",
       "      <td>1199.199365</td>\n",
       "      <td>100.0</td>\n",
       "      <td>0.433468</td>\n",
       "      <td>1</td>\n",
       "      <td>True</td>\n",
       "    </tr>\n",
       "    <tr>\n",
       "      <th>136085</th>\n",
       "      <td>16901</td>\n",
       "      <td>40</td>\n",
       "      <td>1199.632833</td>\n",
       "      <td>100.0</td>\n",
       "      <td>0.433468</td>\n",
       "      <td>1</td>\n",
       "      <td>True</td>\n",
       "    </tr>\n",
       "  </tbody>\n",
       "</table>\n",
       "<p>2770 rows × 7 columns</p>\n",
       "</div>"
      ],
      "text/plain": [
       "         Step  AgentID            X      Y  Velocity  Current_lane  Is_alive\n",
       "110337  14132       40     0.387640  100.0  0.433468             1      True\n",
       "110347  14133       40     0.776280  100.0  0.433468             1      True\n",
       "110357  14134       40     1.165920  100.0  0.433468             1      True\n",
       "110367  14135       40     1.556560  100.0  0.433468             1      True\n",
       "110377  14136       40     1.948200  100.0  0.433468             1      True\n",
       "...       ...      ...          ...    ...       ...           ...       ...\n",
       "136065  16897       40  1197.898961  100.0  0.433468             1      True\n",
       "136070  16898       40  1198.332429  100.0  0.433468             1      True\n",
       "136075  16899       40  1198.765897  100.0  0.433468             1      True\n",
       "136080  16900       40  1199.199365  100.0  0.433468             1      True\n",
       "136085  16901       40  1199.632833  100.0  0.433468             1      True\n",
       "\n",
       "[2770 rows x 7 columns]"
      ]
     },
     "execution_count": 12,
     "metadata": {},
     "output_type": "execute_result"
    }
   ],
   "source": [
    "agent_data = pd.read_csv(f'traffic/output_files/{experiment}/agent_data.csv')\n",
    "agent_data[\"Velocity\"] = agent_data[\"Velocity\"].apply(lambda x: float(x.split(\" \")[0].replace(\"[\",\"\")))\n",
    "agent_data.head()\n",
    "agent_data[agent_data[\"AgentID\"]==40]"
   ]
  },
  {
   "cell_type": "markdown",
   "id": "0550b841",
   "metadata": {},
   "source": [
    "## Flow rate\n",
    "\n",
    "#### Flow rate: The flow rate is the number of cars that pass a certain point per unit of time."
   ]
  },
  {
   "cell_type": "code",
   "execution_count": 5,
   "id": "7ab885bf",
   "metadata": {},
   "outputs": [
    {
     "name": "stdout",
     "output_type": "stream",
     "text": [
      "The x positions of nodes:\n",
      "[0, 100, 200, 300, 400, 500, 600, 700, 800, 900, 1000, 1100, 1200]\n"
     ]
    }
   ],
   "source": [
    "nodes = []\n",
    "for node in lights_input_data:\n",
    "    nodes.append(node[\"pos\"])\n",
    "print(\"The x positions of nodes:\")\n",
    "print(nodes)"
   ]
  },
  {
   "cell_type": "code",
   "execution_count": 6,
   "id": "ffee2cf0",
   "metadata": {},
   "outputs": [
    {
     "name": "stdout",
     "output_type": "stream",
     "text": [
      "flow rate =  6\n",
      "Between 800 and 1800 timestamps, there was 6 cars at point 600 with rounding to 10\n"
     ]
    }
   ],
   "source": [
    "t_start = 800\n",
    "t_end = 1800\n",
    "measure_point_x = 600\n",
    "accepted_dist_delta = 10\n",
    "\n",
    "# A function to calculate flow_rates easy\n",
    "def calc_flow_rate(t_start,t_end,measure_point_x,accepted_delta ):\n",
    "    return agent_data[(agent_data[\"Is_alive\"]==True)&(agent_data[\"Step\"]>t_start)&(agent_data[\"Step\"]<t_end)&(abs(agent_data[\"X\"]-measure_point_x)<accepted_dist_delta)].drop_duplicates(\"AgentID\").shape[0]\n",
    "\n",
    "\n",
    "fr = calc_flow_rate( t_start = t_start,\n",
    "                t_end = t_end,\n",
    "                measure_point_x = measure_point_x,\n",
    "                accepted_delta = accepted_dist_delta)\n",
    "\n",
    "print(\"flow rate = \",fr)\n",
    "print(f\"Between {t_start} and {t_end} timestamps, there was {fr} cars at point {measure_point_x} with rounding to {accepted_dist_delta}\")\n"
   ]
  },
  {
   "cell_type": "code",
   "execution_count": 7,
   "id": "e2eaa713",
   "metadata": {},
   "outputs": [
    {
     "data": {
      "text/plain": [
       "11.463414634146341"
      ]
     },
     "execution_count": 7,
     "metadata": {},
     "output_type": "execute_result"
    }
   ],
   "source": [
    "## Rolling average \n",
    "\n",
    "def flow_rate_running_avg(t_start, t_end, measure_point_x, accepted_dist_delta, window_size,running_step=100):\n",
    "    flow_rates = []\n",
    "    for t in range(t_start, t_end + 1-window_size,running_step):\n",
    "        flow_rates.append(calc_flow_rate(t, t + window_size, measure_point_x, accepted_dist_delta))\n",
    "    running_avg = sum(flow_rates) / len(flow_rates)\n",
    "#     print(flow_rates) # check it out, A.\n",
    "    return running_avg\n",
    "\n",
    "flow_rate_running_avg(800,5800,600,1000,1000)"
   ]
  },
  {
   "cell_type": "markdown",
   "id": "7dc29efe",
   "metadata": {},
   "source": [
    "## Density\n",
    "#### Density: Traffic density is the number of cars per unit length of the road at any instant. "
   ]
  },
  {
   "cell_type": "code",
   "execution_count": 8,
   "id": "5ee72974",
   "metadata": {},
   "outputs": [
    {
     "name": "stdout",
     "output_type": "stream",
     "text": [
      "The number of cars between pos_x 500 and 600, at time 2000, divided by the distance of 100 is equal 0.04\n"
     ]
    }
   ],
   "source": [
    "x_start = 500\n",
    "x_end = 600\n",
    "time = 2000\n",
    "def calc_density(x_start,x_end,time):\n",
    "    return agent_data[(agent_data[\"Is_alive\"]==True)&(agent_data[\"X\"]>x_start)&(agent_data[\"X\"]<x_end)&(agent_data[\"Step\"]==time)].drop_duplicates(\"AgentID\").shape[0]/(x_end-x_start)\n",
    "d = calc_density(x_start,x_end,time)\n",
    "\n",
    "# density at time 2000 between  two given nodes (their x_positions)\n",
    "print(f\"The number of cars between pos_x {x_start} and {x_end}, at time {time}, divided by the distance of {x_end-x_start} is equal {d}\")"
   ]
  },
  {
   "cell_type": "code",
   "execution_count": 9,
   "id": "60ad443a",
   "metadata": {},
   "outputs": [
    {
     "data": {
      "text/plain": [
       "0.026446280991735505"
      ]
     },
     "execution_count": 9,
     "metadata": {},
     "output_type": "execute_result"
    }
   ],
   "source": [
    "# rolling average\n",
    "\n",
    "def density_running_avg(x_start,x_end,t_start, t_end, running_step=5):\n",
    "    densities = []\n",
    "    for t in range(t_start, t_end +1, running_step):\n",
    "        densities.append(calc_density(x_start,x_end,t))\n",
    "    running_avg = sum(densities) / len(densities)\n",
    "#     print(densities)\n",
    "    return running_avg\n",
    "\n",
    "#running average for the same two nodes, using time range, not specific timestamp this time, the result should be simmilar\n",
    "density_running_avg(500,600,1800,2400)"
   ]
  },
  {
   "cell_type": "code",
   "execution_count": 10,
   "id": "522f7d64",
   "metadata": {},
   "outputs": [
    {
     "data": {
      "text/html": [
       "<div>\n",
       "<style scoped>\n",
       "    .dataframe tbody tr th:only-of-type {\n",
       "        vertical-align: middle;\n",
       "    }\n",
       "\n",
       "    .dataframe tbody tr th {\n",
       "        vertical-align: top;\n",
       "    }\n",
       "\n",
       "    .dataframe thead th {\n",
       "        text-align: right;\n",
       "    }\n",
       "</style>\n",
       "<table border=\"1\" class=\"dataframe\">\n",
       "  <thead>\n",
       "    <tr style=\"text-align: right;\">\n",
       "      <th></th>\n",
       "      <th>Step</th>\n",
       "      <th>AgentID</th>\n",
       "      <th>X</th>\n",
       "      <th>Y</th>\n",
       "      <th>Velocity</th>\n",
       "      <th>Current_lane</th>\n",
       "      <th>Is_alive</th>\n",
       "    </tr>\n",
       "  </thead>\n",
       "  <tbody>\n",
       "    <tr>\n",
       "      <th>0</th>\n",
       "      <td>1</td>\n",
       "      <td>0</td>\n",
       "      <td>0.415049</td>\n",
       "      <td>166.666667</td>\n",
       "      <td>0.593567</td>\n",
       "      <td>2</td>\n",
       "      <td>True</td>\n",
       "    </tr>\n",
       "    <tr>\n",
       "      <th>1</th>\n",
       "      <td>1</td>\n",
       "      <td>1</td>\n",
       "      <td>0.007917</td>\n",
       "      <td>33.333333</td>\n",
       "      <td>0.408623</td>\n",
       "      <td>0</td>\n",
       "      <td>True</td>\n",
       "    </tr>\n",
       "    <tr>\n",
       "      <th>2</th>\n",
       "      <td>1</td>\n",
       "      <td>2</td>\n",
       "      <td>0.399195</td>\n",
       "      <td>100.000000</td>\n",
       "      <td>0.548394</td>\n",
       "      <td>1</td>\n",
       "      <td>True</td>\n",
       "    </tr>\n",
       "    <tr>\n",
       "      <th>3</th>\n",
       "      <td>1</td>\n",
       "      <td>3</td>\n",
       "      <td>0.000000</td>\n",
       "      <td>100.000000</td>\n",
       "      <td>0.640693</td>\n",
       "      <td>1</td>\n",
       "      <td>False</td>\n",
       "    </tr>\n",
       "    <tr>\n",
       "      <th>4</th>\n",
       "      <td>1</td>\n",
       "      <td>4</td>\n",
       "      <td>0.000000</td>\n",
       "      <td>166.666667</td>\n",
       "      <td>0.332989</td>\n",
       "      <td>2</td>\n",
       "      <td>False</td>\n",
       "    </tr>\n",
       "    <tr>\n",
       "      <th>...</th>\n",
       "      <td>...</td>\n",
       "      <td>...</td>\n",
       "      <td>...</td>\n",
       "      <td>...</td>\n",
       "      <td>...</td>\n",
       "      <td>...</td>\n",
       "      <td>...</td>\n",
       "    </tr>\n",
       "    <tr>\n",
       "      <th>239331</th>\n",
       "      <td>7346</td>\n",
       "      <td>43</td>\n",
       "      <td>1198.736299</td>\n",
       "      <td>100.000000</td>\n",
       "      <td>0.303324</td>\n",
       "      <td>1</td>\n",
       "      <td>True</td>\n",
       "    </tr>\n",
       "    <tr>\n",
       "      <th>239332</th>\n",
       "      <td>7347</td>\n",
       "      <td>43</td>\n",
       "      <td>1199.039623</td>\n",
       "      <td>100.000000</td>\n",
       "      <td>0.303324</td>\n",
       "      <td>1</td>\n",
       "      <td>True</td>\n",
       "    </tr>\n",
       "    <tr>\n",
       "      <th>239333</th>\n",
       "      <td>7348</td>\n",
       "      <td>43</td>\n",
       "      <td>1199.342947</td>\n",
       "      <td>100.000000</td>\n",
       "      <td>0.303324</td>\n",
       "      <td>1</td>\n",
       "      <td>True</td>\n",
       "    </tr>\n",
       "    <tr>\n",
       "      <th>239334</th>\n",
       "      <td>7349</td>\n",
       "      <td>43</td>\n",
       "      <td>1199.646270</td>\n",
       "      <td>100.000000</td>\n",
       "      <td>0.303324</td>\n",
       "      <td>1</td>\n",
       "      <td>True</td>\n",
       "    </tr>\n",
       "    <tr>\n",
       "      <th>239335</th>\n",
       "      <td>7350</td>\n",
       "      <td>43</td>\n",
       "      <td>1199.949594</td>\n",
       "      <td>100.000000</td>\n",
       "      <td>0.303324</td>\n",
       "      <td>1</td>\n",
       "      <td>True</td>\n",
       "    </tr>\n",
       "  </tbody>\n",
       "</table>\n",
       "<p>239336 rows × 7 columns</p>\n",
       "</div>"
      ],
      "text/plain": [
       "        Step  AgentID            X           Y  Velocity  Current_lane  \\\n",
       "0          1        0     0.415049  166.666667  0.593567             2   \n",
       "1          1        1     0.007917   33.333333  0.408623             0   \n",
       "2          1        2     0.399195  100.000000  0.548394             1   \n",
       "3          1        3     0.000000  100.000000  0.640693             1   \n",
       "4          1        4     0.000000  166.666667  0.332989             2   \n",
       "...      ...      ...          ...         ...       ...           ...   \n",
       "239331  7346       43  1198.736299  100.000000  0.303324             1   \n",
       "239332  7347       43  1199.039623  100.000000  0.303324             1   \n",
       "239333  7348       43  1199.342947  100.000000  0.303324             1   \n",
       "239334  7349       43  1199.646270  100.000000  0.303324             1   \n",
       "239335  7350       43  1199.949594  100.000000  0.303324             1   \n",
       "\n",
       "        Is_alive  \n",
       "0           True  \n",
       "1           True  \n",
       "2           True  \n",
       "3          False  \n",
       "4          False  \n",
       "...          ...  \n",
       "239331      True  \n",
       "239332      True  \n",
       "239333      True  \n",
       "239334      True  \n",
       "239335      True  \n",
       "\n",
       "[239336 rows x 7 columns]"
      ]
     },
     "execution_count": 10,
     "metadata": {},
     "output_type": "execute_result"
    }
   ],
   "source": [
    "x_start = 500\n",
    "x_end = 600\n",
    "time = 2000\n",
    "agent_data"
   ]
  }
 ],
 "metadata": {
  "kernelspec": {
   "display_name": "Python 3 (ipykernel)",
   "language": "python",
   "name": "python3"
  },
  "language_info": {
   "codemirror_mode": {
    "name": "ipython",
    "version": 3
   },
   "file_extension": ".py",
   "mimetype": "text/x-python",
   "name": "python",
   "nbconvert_exporter": "python",
   "pygments_lexer": "ipython3",
   "version": "3.10.9"
  }
 },
 "nbformat": 4,
 "nbformat_minor": 5
}
