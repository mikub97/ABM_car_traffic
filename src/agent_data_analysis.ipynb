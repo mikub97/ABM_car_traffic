{
 "cells": [
  {
   "cell_type": "code",
   "execution_count": 1,
   "id": "616faba9",
   "metadata": {},
   "outputs": [],
   "source": [
    "import pandas as pd\n",
    "import numpy as np\n",
    "import json"
   ]
  },
  {
   "cell_type": "code",
   "execution_count": 2,
   "id": "bfe772ca",
   "metadata": {},
   "outputs": [],
   "source": [
    "experiment = \"experiment_trafficlights\""
   ]
  },
  {
   "cell_type": "markdown",
   "id": "c5aa0527",
   "metadata": {},
   "source": [
    "### Reading input data"
   ]
  },
  {
   "cell_type": "code",
   "execution_count": 3,
   "id": "f8337549",
   "metadata": {},
   "outputs": [],
   "source": [
    "with open(f'traffic/input_files/{experiment}/traffic.json', \"r\") as read_file:\n",
    "    drivers_input_data = json.load(read_file)\n",
    "with open(f'traffic/input_files/{experiment}/drivers.json', \"r\") as read_file:\n",
    "    traffic_input_data = json.load(read_file)\n",
    "with open(f'traffic/input_files/{experiment}/lights.json', \"r\") as read_file:\n",
    "    lights_input_data = json.load(read_file)"
   ]
  },
  {
   "cell_type": "markdown",
   "id": "73e274d1",
   "metadata": {},
   "source": [
    "### Reading output data"
   ]
  },
  {
   "cell_type": "code",
   "execution_count": 16,
   "id": "91e956ee",
   "metadata": {},
   "outputs": [
    {
     "data": {
      "text/html": [
       "<div>\n",
       "<style scoped>\n",
       "    .dataframe tbody tr th:only-of-type {\n",
       "        vertical-align: middle;\n",
       "    }\n",
       "\n",
       "    .dataframe tbody tr th {\n",
       "        vertical-align: top;\n",
       "    }\n",
       "\n",
       "    .dataframe thead th {\n",
       "        text-align: right;\n",
       "    }\n",
       "</style>\n",
       "<table border=\"1\" class=\"dataframe\">\n",
       "  <thead>\n",
       "    <tr style=\"text-align: right;\">\n",
       "      <th></th>\n",
       "      <th>Step</th>\n",
       "      <th>AgentID</th>\n",
       "      <th>X</th>\n",
       "      <th>Y</th>\n",
       "      <th>Velocity</th>\n",
       "      <th>Current_lane</th>\n",
       "      <th>Is_alive</th>\n",
       "    </tr>\n",
       "  </thead>\n",
       "  <tbody>\n",
       "    <tr>\n",
       "      <th>0</th>\n",
       "      <td>1</td>\n",
       "      <td>0</td>\n",
       "      <td>0.688056</td>\n",
       "      <td>100.000000</td>\n",
       "      <td>[0.68805623 0.        ]</td>\n",
       "      <td>1</td>\n",
       "      <td>True</td>\n",
       "    </tr>\n",
       "    <tr>\n",
       "      <th>1</th>\n",
       "      <td>1</td>\n",
       "      <td>1</td>\n",
       "      <td>0.000000</td>\n",
       "      <td>100.000000</td>\n",
       "      <td>[1.07108856 0.        ]</td>\n",
       "      <td>1</td>\n",
       "      <td>False</td>\n",
       "    </tr>\n",
       "    <tr>\n",
       "      <th>2</th>\n",
       "      <td>1</td>\n",
       "      <td>2</td>\n",
       "      <td>0.452577</td>\n",
       "      <td>166.666667</td>\n",
       "      <td>[0.45257689 0.        ]</td>\n",
       "      <td>2</td>\n",
       "      <td>True</td>\n",
       "    </tr>\n",
       "    <tr>\n",
       "      <th>3</th>\n",
       "      <td>1</td>\n",
       "      <td>3</td>\n",
       "      <td>0.000000</td>\n",
       "      <td>166.666667</td>\n",
       "      <td>[0.42732181 0.        ]</td>\n",
       "      <td>2</td>\n",
       "      <td>False</td>\n",
       "    </tr>\n",
       "    <tr>\n",
       "      <th>4</th>\n",
       "      <td>1</td>\n",
       "      <td>4</td>\n",
       "      <td>1.118439</td>\n",
       "      <td>33.333333</td>\n",
       "      <td>[1.11843941 0.        ]</td>\n",
       "      <td>0</td>\n",
       "      <td>True</td>\n",
       "    </tr>\n",
       "  </tbody>\n",
       "</table>\n",
       "</div>"
      ],
      "text/plain": [
       "   Step  AgentID         X           Y                 Velocity  Current_lane  \\\n",
       "0     1        0  0.688056  100.000000  [0.68805623 0.        ]             1   \n",
       "1     1        1  0.000000  100.000000  [1.07108856 0.        ]             1   \n",
       "2     1        2  0.452577  166.666667  [0.45257689 0.        ]             2   \n",
       "3     1        3  0.000000  166.666667  [0.42732181 0.        ]             2   \n",
       "4     1        4  1.118439   33.333333  [1.11843941 0.        ]             0   \n",
       "\n",
       "   Is_alive  \n",
       "0      True  \n",
       "1     False  \n",
       "2      True  \n",
       "3     False  \n",
       "4      True  "
      ]
     },
     "execution_count": 16,
     "metadata": {},
     "output_type": "execute_result"
    }
   ],
   "source": [
    "agent_data = pd.read_csv(f'traffic/output_files/{experiment}/agent_data.csv')\n",
    "agent_data.head()"
   ]
  },
  {
   "cell_type": "markdown",
   "id": "0550b841",
   "metadata": {},
   "source": [
    "## Flow rate\n",
    "\n",
    "#### Flow rate: The flow rate is the number of cars that pass a certain point per unit of time."
   ]
  },
  {
   "cell_type": "code",
   "execution_count": 22,
   "id": "7ab885bf",
   "metadata": {},
   "outputs": [
    {
     "data": {
      "text/plain": [
       "[0, 100, 200, 300, 400, 500, 600, 700, 800, 900, 1000, 1100, 1200]"
      ]
     },
     "execution_count": 22,
     "metadata": {},
     "output_type": "execute_result"
    }
   ],
   "source": [
    "nodes = []\n",
    "for node in lights_input_data:\n",
    "    nodes.append(node[\"pos\"])\n",
    "nodes"
   ]
  },
  {
   "cell_type": "code",
   "execution_count": 32,
   "id": "e2eaa713",
   "metadata": {},
   "outputs": [
    {
     "data": {
      "text/plain": [
       "<pandas.core.groupby.generic.DataFrameGroupBy object at 0x00000157E148E920>"
      ]
     },
     "execution_count": 32,
     "metadata": {},
     "output_type": "execute_result"
    }
   ],
   "source": [
    "agent_data[agent_data[\"Is_alive\"]==True].groupby(\"Step\")"
   ]
  },
  {
   "cell_type": "markdown",
   "id": "7dc29efe",
   "metadata": {},
   "source": [
    "## Density\n",
    "#### Density: Traffic density is the number of cars per unit length of the road at any instant. "
   ]
  }
 ],
 "metadata": {
  "kernelspec": {
   "display_name": "Python 3 (ipykernel)",
   "language": "python",
   "name": "python3"
  },
  "language_info": {
   "codemirror_mode": {
    "name": "ipython",
    "version": 3
   },
   "file_extension": ".py",
   "mimetype": "text/x-python",
   "name": "python",
   "nbconvert_exporter": "python",
   "pygments_lexer": "ipython3",
   "version": "3.10.9"
  }
 },
 "nbformat": 4,
 "nbformat_minor": 5
}
