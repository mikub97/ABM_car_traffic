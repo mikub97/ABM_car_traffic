{
 "cells": [
  {
   "cell_type": "code",
   "execution_count": 1,
   "id": "616faba9",
   "metadata": {},
   "outputs": [],
   "source": [
    "import pandas as pd\n",
    "import numpy as np\n",
    "import json"
   ]
  },
  {
   "cell_type": "code",
   "execution_count": 2,
   "id": "bfe772ca",
   "metadata": {},
   "outputs": [],
   "source": [
    "experiment = \"experiment_trafficlights\""
   ]
  },
  {
   "cell_type": "markdown",
   "id": "c5aa0527",
   "metadata": {},
   "source": [
    "### Reading input data"
   ]
  },
  {
   "cell_type": "code",
   "execution_count": 45,
   "id": "f8337549",
   "metadata": {},
   "outputs": [],
   "source": [
    "with open(f'traffic/input_files/{experiment}/traffic.json', \"r\") as read_file:\n",
    "    drivers_input_data = json.load(read_file)\n",
    "with open(f'traffic/input_files/{experiment}/drivers.json', \"r\") as read_file:\n",
    "    traffic_input_data = json.load(read_file)\n",
    "with open(f'traffic/input_files/{experiment}/lights.json', \"r\") as read_file:\n",
    "    lights_input_data = json.load(read_file)"
   ]
  },
  {
   "cell_type": "markdown",
   "id": "73e274d1",
   "metadata": {},
   "source": [
    "### Reading output data"
   ]
  },
  {
   "cell_type": "code",
   "execution_count": 98,
   "id": "91e956ee",
   "metadata": {},
   "outputs": [
    {
     "data": {
      "text/html": [
       "<div>\n",
       "<style scoped>\n",
       "    .dataframe tbody tr th:only-of-type {\n",
       "        vertical-align: middle;\n",
       "    }\n",
       "\n",
       "    .dataframe tbody tr th {\n",
       "        vertical-align: top;\n",
       "    }\n",
       "\n",
       "    .dataframe thead th {\n",
       "        text-align: right;\n",
       "    }\n",
       "</style>\n",
       "<table border=\"1\" class=\"dataframe\">\n",
       "  <thead>\n",
       "    <tr style=\"text-align: right;\">\n",
       "      <th></th>\n",
       "      <th>Step</th>\n",
       "      <th>AgentID</th>\n",
       "      <th>X</th>\n",
       "      <th>Y</th>\n",
       "      <th>Velocity</th>\n",
       "      <th>Current_lane</th>\n",
       "      <th>Is_alive</th>\n",
       "    </tr>\n",
       "  </thead>\n",
       "  <tbody>\n",
       "    <tr>\n",
       "      <th>0</th>\n",
       "      <td>1</td>\n",
       "      <td>0</td>\n",
       "      <td>0.202984</td>\n",
       "      <td>33.333333</td>\n",
       "      <td>0.752157</td>\n",
       "      <td>0</td>\n",
       "      <td>True</td>\n",
       "    </tr>\n",
       "    <tr>\n",
       "      <th>1</th>\n",
       "      <td>1</td>\n",
       "      <td>1</td>\n",
       "      <td>0.244856</td>\n",
       "      <td>100.000000</td>\n",
       "      <td>0.401942</td>\n",
       "      <td>1</td>\n",
       "      <td>True</td>\n",
       "    </tr>\n",
       "    <tr>\n",
       "      <th>2</th>\n",
       "      <td>1</td>\n",
       "      <td>2</td>\n",
       "      <td>0.000000</td>\n",
       "      <td>100.000000</td>\n",
       "      <td>0.455000</td>\n",
       "      <td>1</td>\n",
       "      <td>False</td>\n",
       "    </tr>\n",
       "    <tr>\n",
       "      <th>3</th>\n",
       "      <td>1</td>\n",
       "      <td>3</td>\n",
       "      <td>0.000000</td>\n",
       "      <td>33.333333</td>\n",
       "      <td>0.464627</td>\n",
       "      <td>0</td>\n",
       "      <td>False</td>\n",
       "    </tr>\n",
       "    <tr>\n",
       "      <th>4</th>\n",
       "      <td>1</td>\n",
       "      <td>4</td>\n",
       "      <td>0.206633</td>\n",
       "      <td>166.666667</td>\n",
       "      <td>0.430563</td>\n",
       "      <td>2</td>\n",
       "      <td>True</td>\n",
       "    </tr>\n",
       "  </tbody>\n",
       "</table>\n",
       "</div>"
      ],
      "text/plain": [
       "   Step  AgentID         X           Y  Velocity  Current_lane  Is_alive\n",
       "0     1        0  0.202984   33.333333  0.752157             0      True\n",
       "1     1        1  0.244856  100.000000  0.401942             1      True\n",
       "2     1        2  0.000000  100.000000  0.455000             1     False\n",
       "3     1        3  0.000000   33.333333  0.464627             0     False\n",
       "4     1        4  0.206633  166.666667  0.430563             2      True"
      ]
     },
     "execution_count": 98,
     "metadata": {},
     "output_type": "execute_result"
    }
   ],
   "source": [
    "agent_data = pd.read_csv(f'traffic/output_files/{experiment}/agent_data.csv')\n",
    "agent_data[\"Velocity\"] = agent_data[\"Velocity\"].apply(lambda x: float(x.split(\" \")[0].replace(\"[\",\"\")))\n",
    "agent_data[\"Velocity\"] = agent_data[\"Velocity\"].astype(float)\n",
    "agent_data.head()"
   ]
  },
  {
   "cell_type": "markdown",
   "id": "0550b841",
   "metadata": {},
   "source": [
    "## Flow rate\n",
    "\n",
    "#### Flow rate: The flow rate is the number of cars that pass a certain point per unit of time."
   ]
  },
  {
   "cell_type": "code",
   "execution_count": 47,
   "id": "7ab885bf",
   "metadata": {},
   "outputs": [
    {
     "name": "stdout",
     "output_type": "stream",
     "text": [
      "The x positions of nodes:\n",
      "[0, 100, 200, 300, 400, 500, 600, 700, 800, 900, 1000, 1100, 1200]\n"
     ]
    }
   ],
   "source": [
    "nodes = []\n",
    "for node in lights_input_data:\n",
    "    nodes.append(node[\"pos\"])\n",
    "print(\"The x positions of nodes:\")\n",
    "print(nodes)"
   ]
  },
  {
   "cell_type": "code",
   "execution_count": 50,
   "id": "07d27d0e",
   "metadata": {},
   "outputs": [
    {
     "name": "stdout",
     "output_type": "stream",
     "text": [
      "flow rate =  50\n",
      "Between 851 and 5589 timestamps, there was 50 cars at point 500 with rounding to 10\n"
     ]
    }
   ],
   "source": [
    "t_start = 851\n",
    "t_end = 5589\n",
    "measure_point_x = 500\n",
    "accepted_dist_delta = 10\n",
    "\n",
    "# A function to calculate flow_rates easy\n",
    "def calc_flow_rate(t_start,t_end,measure_point_x,accepted_delta):\n",
    "    return agent_data[(agent_data[\"Is_alive\"]==True)&(agent_data[\"Step\"]>t_start)&(agent_data[\"Step\"]<t_end)&(abs(agent_data[\"X\"]-measure_point_x)<accepted_dist_delta)].drop_duplicates(\"AgentID\").shape[0]\n",
    "\n",
    "\n",
    "fr = calc_flow_rate( t_start = t_start,\n",
    "                t_end = t_end,\n",
    "                measure_point_x = measure_point_x,\n",
    "                accepted_delta = accepted_dist_delta)\n",
    "\n",
    "print(\"flow rate = \",fr)\n",
    "print(f\"Between {t_start} and {t_end} timestamps, there was {fr} cars at point {measure_point_x} with rounding to {accepted_dist_delta}\")\n"
   ]
  },
  {
   "cell_type": "code",
   "execution_count": 88,
   "id": "e2eaa713",
   "metadata": {},
   "outputs": [
    {
     "data": {
      "text/plain": [
       "11.526315789473685"
      ]
     },
     "execution_count": 88,
     "metadata": {},
     "output_type": "execute_result"
    }
   ],
   "source": [
    "## Rolling average \n",
    "\n",
    "def flow_rate_running_avg(t_start, t_end, measure_point_x, accepted_dist_delta, window_size,running_step=100):\n",
    "    flow_rates = []\n",
    "    for t in range(t_start, t_end + 1-window_size,running_step):\n",
    "        flow_rates.append(calc_flow_rate(t, t + window_size, measure_point_x, accepted_dist_delta)) # there was error so i changed flow_rate to calc_flow_rate\n",
    "    running_avg = sum(flow_rates) / len(flow_rates)\n",
    "#print(flow_rates) # check it out, A.\n",
    "    return running_avg\n",
    "\n",
    "flow_rate_running_avg(851,5589,500,1000,1000)"
   ]
  },
  {
   "cell_type": "markdown",
   "id": "7dc29efe",
   "metadata": {},
   "source": [
    "## Density\n",
    "#### Density: Traffic density is the number of cars per unit length of the road at any instant. "
   ]
  },
  {
   "cell_type": "code",
   "execution_count": 52,
   "id": "49f9bbb6",
   "metadata": {},
   "outputs": [
    {
     "name": "stdout",
     "output_type": "stream",
     "text": [
      "The number of cars between pos_x 500 and 600, at time 2000, divided by the distance of 100 is equal 0.02\n"
     ]
    }
   ],
   "source": [
    "x_start = 500\n",
    "x_end = 600\n",
    "time = 2000\n",
    "def calc_density(x_start,x_end,time):\n",
    "    return agent_data[(agent_data[\"Is_alive\"]==True)&(agent_data[\"X\"]>x_start)&(agent_data[\"X\"]<x_end)&(agent_data[\"Step\"]==time)].drop_duplicates(\"AgentID\").shape[0]/(x_end-x_start)\n",
    "d = calc_density(x_start,x_end,time)\n",
    "\n",
    "# density at time 2000 between  two given nodes (their x_positions)\n",
    "print(f\"The number of cars between pos_x {x_start} and {x_end}, at time {time}, divided by the distance of {x_end-x_start} is equal {d}\")"
   ]
  },
  {
   "cell_type": "code",
   "execution_count": 53,
   "id": "38b5b377",
   "metadata": {},
   "outputs": [
    {
     "data": {
      "text/plain": [
       "0.025548523206751047"
      ]
     },
     "execution_count": 53,
     "metadata": {},
     "output_type": "execute_result"
    }
   ],
   "source": [
    "# rolling average\n",
    "\n",
    "def density_running_avg(x_start,x_end,t_start, t_end, running_step=5):\n",
    "    densities = []\n",
    "    for t in range(t_start, t_end +1, running_step):\n",
    "        densities.append(calc_density(x_start,x_end,t))\n",
    "    running_avg = sum(densities) / len(densities)\n",
    "    return running_avg\n",
    "\n",
    "#running average for the same two nodes, using time range, not specific timestamp this time, the result should be simmilar\n",
    "density_running_avg(500,600,851,5589)"
   ]
  },
  {
   "cell_type": "markdown",
   "id": "0f8c04a0",
   "metadata": {},
   "source": [
    "## Velocity"
   ]
  },
  {
   "cell_type": "markdown",
   "id": "cca1633d",
   "metadata": {},
   "source": [
    "**Velocity: Average velocity of agents between two nodes in some time window**"
   ]
  },
  {
   "cell_type": "code",
   "execution_count": 83,
   "id": "782cdf46",
   "metadata": {},
   "outputs": [
    {
     "name": "stdout",
     "output_type": "stream",
     "text": [
      "0.5010756774191958\n"
     ]
    }
   ],
   "source": [
    "t_start = 851\n",
    "t_end = 5589\n",
    "x_start = 500\n",
    "x_end = 600\n",
    "\n",
    "\n",
    "def calc_mean_velocity(agent_data_frame, t_start, t_end, x_start, x_end):\n",
    "    mean_velocity = np.mean(agent_data.loc[agent_data[\"Is_alive\"]==True \n",
    "               & (agent_data['X']>x_start) \n",
    "               & (agent_data[\"X\"]<x_end)\n",
    "               & (agent_data[\"Step\"]>t_start)\n",
    "               & (agent_data[\"Step\"]>t_end)][\"Velocity\"])\n",
    "    return mean_velocity\n",
    "\n",
    "velocities_per_agent = calc_mean_velocity(agent_data, 851, 5589, 500, 600)\n",
    "print(velocities_per_agent)"
   ]
  },
  {
   "cell_type": "code",
   "execution_count": 81,
   "id": "609f4936",
   "metadata": {},
   "outputs": [
    {
     "data": {
      "text/plain": [
       "0.5010756774191958"
      ]
     },
     "execution_count": 81,
     "metadata": {},
     "output_type": "execute_result"
    }
   ],
   "source": [
    "np.mean(agent_data.loc[agent_data[\"Is_alive\"]==True \n",
    "               & (agent_data['X']>x_start) \n",
    "               & (agent_data[\"X\"]<x_end)\n",
    "               & (agent_data[\"Step\"]>t_start)\n",
    "               & (agent_data[\"Step\"]>t_end)][\"Velocity\"])\n",
    "\n"
   ]
  },
  {
   "cell_type": "markdown",
   "id": "76a29dbb",
   "metadata": {},
   "source": [
    "### Can I make a running average for velocity? "
   ]
  },
  {
   "cell_type": "code",
   "execution_count": null,
   "id": "7ba53aeb",
   "metadata": {},
   "outputs": [],
   "source": []
  },
  {
   "cell_type": "code",
   "execution_count": null,
   "id": "faf97e0e",
   "metadata": {},
   "outputs": [],
   "source": []
  },
  {
   "cell_type": "markdown",
   "id": "906e8bf2",
   "metadata": {},
   "source": [
    "## Making a dataframe that collects the parameters and results of experiments we run? "
   ]
  },
  {
   "cell_type": "code",
   "execution_count": 130,
   "id": "3e3608d2",
   "metadata": {},
   "outputs": [],
   "source": [
    "import pandas as pd\n",
    "\n",
    "agent_data = pd.read_csv(f'traffic/output_files/{experiment}/agent_data.csv')\n",
    "agent_data[\"Velocity\"] = agent_data[\"Velocity\"].apply(lambda x: float(x.split(\" \")[0].replace(\"[\",\"\")))\n",
    "agent_data[\"Velocity\"] = agent_data[\"Velocity\"].astype(float)\n",
    "\n",
    "t_start = 851\n",
    "t_end = 5589\n",
    "x_start = 500\n",
    "x_end = 600\n",
    "time = 2000\n",
    "measure_point_x = 500\n",
    "accepted_dist_delta = 10\n",
    "running_step = 333\n",
    "window_size = 1000\n",
    "\n",
    "#experiment_results = pd.DataFrame(columns=['experiment', 'average_velocity', 'rolling_average_density', 'rolling_average_flow'])\n",
    "\n",
    "experiment_results = pd.read_csv('experiment_results.csv')\n",
    "\n",
    "def collect_data(agent_data, t_start, t_end, x_start, x_end, running_step, measure_point_x, accepted_dist_delta, window_size):\n",
    "    \n",
    "    data = {\n",
    "        'experiment': experiment,\n",
    "        'average_velocity': calc_mean_velocity(agent_data, t_start, t_end, x_start, x_end),\n",
    "        'rolling_average_density': density_running_avg(x_start, x_end, t_start, t_end, running_step=5),\n",
    "        'rolling_average_flow': flow_rate_running_avg(t_start, t_end, measure_point_x, accepted_dist_delta, window_size, running_step=100)\n",
    "    }\n",
    "     \n",
    "    experiment_results.loc[len(experiment_results)] = data\n",
    "\n",
    "# Call collect_data function to update experiment_results\n",
    "collect_data(agent_data, t_start, t_end, x_start, x_end, running_step, measure_point_x, accepted_dist_delta, window_size)\n",
    "\n",
    "# Save experiment_results as a CSV file\n",
    "experiment_results.to_csv('experiment_results.csv', index=False)\n"
   ]
  },
  {
   "cell_type": "code",
   "execution_count": 131,
   "id": "48aec494",
   "metadata": {},
   "outputs": [
    {
     "data": {
      "text/html": [
       "<div>\n",
       "<style scoped>\n",
       "    .dataframe tbody tr th:only-of-type {\n",
       "        vertical-align: middle;\n",
       "    }\n",
       "\n",
       "    .dataframe tbody tr th {\n",
       "        vertical-align: top;\n",
       "    }\n",
       "\n",
       "    .dataframe thead th {\n",
       "        text-align: right;\n",
       "    }\n",
       "</style>\n",
       "<table border=\"1\" class=\"dataframe\">\n",
       "  <thead>\n",
       "    <tr style=\"text-align: right;\">\n",
       "      <th></th>\n",
       "      <th>experiment</th>\n",
       "      <th>average_velocity</th>\n",
       "      <th>rolling_average_density</th>\n",
       "      <th>rolling_average_flow</th>\n",
       "    </tr>\n",
       "  </thead>\n",
       "  <tbody>\n",
       "    <tr>\n",
       "      <th>0</th>\n",
       "      <td>experiment_trafficlights</td>\n",
       "      <td>0.562866</td>\n",
       "      <td>0.021118</td>\n",
       "      <td>12.263158</td>\n",
       "    </tr>\n",
       "    <tr>\n",
       "      <th>1</th>\n",
       "      <td>experiment_trafficlights</td>\n",
       "      <td>0.473487</td>\n",
       "      <td>0.027141</td>\n",
       "      <td>11.289474</td>\n",
       "    </tr>\n",
       "    <tr>\n",
       "      <th>2</th>\n",
       "      <td>experiment_trafficlights</td>\n",
       "      <td>0.537993</td>\n",
       "      <td>0.027511</td>\n",
       "      <td>12.526316</td>\n",
       "    </tr>\n",
       "    <tr>\n",
       "      <th>3</th>\n",
       "      <td>experiment_trafficlights</td>\n",
       "      <td>0.686395</td>\n",
       "      <td>0.016920</td>\n",
       "      <td>11.131579</td>\n",
       "    </tr>\n",
       "    <tr>\n",
       "      <th>4</th>\n",
       "      <td>experiment_trafficlights</td>\n",
       "      <td>0.656103</td>\n",
       "      <td>0.015654</td>\n",
       "      <td>11.236842</td>\n",
       "    </tr>\n",
       "    <tr>\n",
       "      <th>5</th>\n",
       "      <td>experiment_trafficlights</td>\n",
       "      <td>0.409738</td>\n",
       "      <td>0.027395</td>\n",
       "      <td>10.289474</td>\n",
       "    </tr>\n",
       "    <tr>\n",
       "      <th>6</th>\n",
       "      <td>experiment_trafficlights</td>\n",
       "      <td>0.384203</td>\n",
       "      <td>0.027215</td>\n",
       "      <td>9.447368</td>\n",
       "    </tr>\n",
       "    <tr>\n",
       "      <th>7</th>\n",
       "      <td>experiment_trafficlights</td>\n",
       "      <td>0.417232</td>\n",
       "      <td>0.032141</td>\n",
       "      <td>9.842105</td>\n",
       "    </tr>\n",
       "  </tbody>\n",
       "</table>\n",
       "</div>"
      ],
      "text/plain": [
       "                 experiment  average_velocity  rolling_average_density  \\\n",
       "0  experiment_trafficlights          0.562866                 0.021118   \n",
       "1  experiment_trafficlights          0.473487                 0.027141   \n",
       "2  experiment_trafficlights          0.537993                 0.027511   \n",
       "3  experiment_trafficlights          0.686395                 0.016920   \n",
       "4  experiment_trafficlights          0.656103                 0.015654   \n",
       "5  experiment_trafficlights          0.409738                 0.027395   \n",
       "6  experiment_trafficlights          0.384203                 0.027215   \n",
       "7  experiment_trafficlights          0.417232                 0.032141   \n",
       "\n",
       "   rolling_average_flow  \n",
       "0             12.263158  \n",
       "1             11.289474  \n",
       "2             12.526316  \n",
       "3             11.131579  \n",
       "4             11.236842  \n",
       "5             10.289474  \n",
       "6              9.447368  \n",
       "7              9.842105  "
      ]
     },
     "execution_count": 131,
     "metadata": {},
     "output_type": "execute_result"
    }
   ],
   "source": [
    "experiment_results"
   ]
  },
  {
   "cell_type": "code",
   "execution_count": 132,
   "id": "f4203fb4",
   "metadata": {},
   "outputs": [
    {
     "data": {
      "image/png": "[encoded data removed]",
      "text/plain": [
       "<Figure size 640x480 with 1 Axes>"
      ]
     },
     "metadata": {},
     "output_type": "display_data"
    }
   ],
   "source": [
    "import matplotlib.pyplot as plt\n",
    "\n",
    "# Create a new figure and axis\n",
    "fig, ax = plt.subplots()\n",
    "\n",
    "ax.scatter(experiment_results['average_velocity'], \n",
    "           experiment_results['rolling_average_flow'], \n",
    "           color='blue')\n",
    "\n",
    "# Add labels and legend\n",
    "ax.set_xlabel('mean velocity')\n",
    "ax.set_ylabel('mean flow rate')\n",
    "# ax.legend()\n",
    "\n",
    "# Display the plot\n",
    "plt.show()"
   ]
  },
  {
   "cell_type": "code",
   "execution_count": 133,
   "id": "192c55af",
   "metadata": {},
   "outputs": [
    {
     "data": {
      "image/png": "[encoded data removed]",
      "text/plain": [
       "<Figure size 640x480 with 1 Axes>"
      ]
     },
     "metadata": {},
     "output_type": "display_data"
    }
   ],
   "source": [
    "# Create a new figure and axis\n",
    "fig, ax = plt.subplots()\n",
    "\n",
    "ax.scatter(experiment_results['average_velocity'], \n",
    "           experiment_results['rolling_average_density'], \n",
    "           color='blue')\n",
    "\n",
    "# Add labels and legend\n",
    "ax.set_xlabel('mean velocity')\n",
    "ax.set_ylabel('mean density')\n",
    "# ax.legend()\n",
    "\n",
    "# Display the plot\n",
    "plt.show()"
   ]
  },
  {
   "cell_type": "code",
   "execution_count": 134,
   "id": "c858ab34",
   "metadata": {},
   "outputs": [
    {
     "data": {
      "image/png": "[encoded data removed]",
      "text/plain": [
       "<Figure size 640x480 with 1 Axes>"
      ]
     },
     "metadata": {},
     "output_type": "display_data"
    }
   ],
   "source": [
    "# Create a new figure and axis\n",
    "fig, ax = plt.subplots()\n",
    "\n",
    "ax.scatter(experiment_results['rolling_average_density'], \n",
    "           experiment_results['rolling_average_flow'], \n",
    "           color='blue')\n",
    "\n",
    "# Add labels and legend\n",
    "ax.set_xlabel('mean density')\n",
    "ax.set_ylabel('mean flow rate')\n",
    "# ax.legend()\n",
    "\n",
    "# Display the plot\n",
    "plt.show()"
   ]
  }
 ],
 "metadata": {
  "kernelspec": {
   "display_name": "Python 3 (ipykernel)",
   "language": "python",
   "name": "python3"
  },
  "language_info": {
   "codemirror_mode": {
    "name": "ipython",
    "version": 3
   },
   "file_extension": ".py",
   "mimetype": "text/x-python",
   "name": "python",
   "nbconvert_exporter": "python",
   "pygments_lexer": "ipython3",
   "version": "3.9.15"
  }
 },
 "nbformat": 4,
 "nbformat_minor": 5
}
