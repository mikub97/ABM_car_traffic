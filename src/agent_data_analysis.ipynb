{
 "cells": [
  {
   "cell_type": "code",
   "execution_count": 3,
   "id": "616faba9",
   "metadata": {},
   "outputs": [],
   "source": [
    "import pandas as pd\n",
    "import numpy as np\n",
    "import json"
   ]
  },
  {
   "cell_type": "code",
   "execution_count": 4,
   "id": "bfe772ca",
   "metadata": {},
   "outputs": [],
   "source": [
    "experiment = \"experiment_trafficlights\""
   ]
  },
  {
   "cell_type": "markdown",
   "id": "c5aa0527",
   "metadata": {},
   "source": [
    "### Reading input data"
   ]
  },
  {
   "cell_type": "code",
   "execution_count": 5,
   "id": "f8337549",
   "metadata": {},
   "outputs": [],
   "source": [
    "with open(f'traffic/input_files/{experiment}/traffic.json', \"r\") as read_file:\n",
    "    drivers_input_data = json.load(read_file)\n",
    "with open(f'traffic/input_files/{experiment}/drivers.json', \"r\") as read_file:\n",
    "    traffic_input_data = json.load(read_file)\n",
    "with open(f'traffic/input_files/{experiment}/lights.json', \"r\") as read_file:\n",
    "    lights_input_data = json.load(read_file)"
   ]
  },
  {
   "cell_type": "markdown",
   "id": "73e274d1",
   "metadata": {},
   "source": [
    "### Reading output data"
   ]
  },
  {
   "cell_type": "code",
   "execution_count": 6,
   "id": "91e956ee",
   "metadata": {},
   "outputs": [
    {
     "data": {
      "text/html": [
       "<div>\n",
       "<style scoped>\n",
       "    .dataframe tbody tr th:only-of-type {\n",
       "        vertical-align: middle;\n",
       "    }\n",
       "\n",
       "    .dataframe tbody tr th {\n",
       "        vertical-align: top;\n",
       "    }\n",
       "\n",
       "    .dataframe thead th {\n",
       "        text-align: right;\n",
       "    }\n",
       "</style>\n",
       "<table border=\"1\" class=\"dataframe\">\n",
       "  <thead>\n",
       "    <tr style=\"text-align: right;\">\n",
       "      <th></th>\n",
       "      <th>Step</th>\n",
       "      <th>AgentID</th>\n",
       "      <th>X</th>\n",
       "      <th>Y</th>\n",
       "      <th>Velocity</th>\n",
       "      <th>Current_lane</th>\n",
       "      <th>Is_alive</th>\n",
       "    </tr>\n",
       "  </thead>\n",
       "  <tbody>\n",
       "    <tr>\n",
       "      <th>0</th>\n",
       "      <td>1</td>\n",
       "      <td>0</td>\n",
       "      <td>0.415049</td>\n",
       "      <td>166.666667</td>\n",
       "      <td>[0.59356701 0.        ]</td>\n",
       "      <td>2</td>\n",
       "      <td>True</td>\n",
       "    </tr>\n",
       "    <tr>\n",
       "      <th>1</th>\n",
       "      <td>1</td>\n",
       "      <td>1</td>\n",
       "      <td>0.007917</td>\n",
       "      <td>33.333333</td>\n",
       "      <td>[0.40862256 0.        ]</td>\n",
       "      <td>0</td>\n",
       "      <td>True</td>\n",
       "    </tr>\n",
       "    <tr>\n",
       "      <th>2</th>\n",
       "      <td>1</td>\n",
       "      <td>2</td>\n",
       "      <td>0.399195</td>\n",
       "      <td>100.000000</td>\n",
       "      <td>[0.54839379 0.        ]</td>\n",
       "      <td>1</td>\n",
       "      <td>True</td>\n",
       "    </tr>\n",
       "    <tr>\n",
       "      <th>3</th>\n",
       "      <td>1</td>\n",
       "      <td>3</td>\n",
       "      <td>0.000000</td>\n",
       "      <td>100.000000</td>\n",
       "      <td>[0.64069314 0.        ]</td>\n",
       "      <td>1</td>\n",
       "      <td>False</td>\n",
       "    </tr>\n",
       "    <tr>\n",
       "      <th>4</th>\n",
       "      <td>1</td>\n",
       "      <td>4</td>\n",
       "      <td>0.000000</td>\n",
       "      <td>166.666667</td>\n",
       "      <td>[0.33298864 0.        ]</td>\n",
       "      <td>2</td>\n",
       "      <td>False</td>\n",
       "    </tr>\n",
       "  </tbody>\n",
       "</table>\n",
       "</div>"
      ],
      "text/plain": [
       "   Step  AgentID         X           Y                 Velocity  Current_lane  \\\n",
       "0     1        0  0.415049  166.666667  [0.59356701 0.        ]             2   \n",
       "1     1        1  0.007917   33.333333  [0.40862256 0.        ]             0   \n",
       "2     1        2  0.399195  100.000000  [0.54839379 0.        ]             1   \n",
       "3     1        3  0.000000  100.000000  [0.64069314 0.        ]             1   \n",
       "4     1        4  0.000000  166.666667  [0.33298864 0.        ]             2   \n",
       "\n",
       "   Is_alive  \n",
       "0      True  \n",
       "1      True  \n",
       "2      True  \n",
       "3     False  \n",
       "4     False  "
      ]
     },
     "execution_count": 6,
     "metadata": {},
     "output_type": "execute_result"
    }
   ],
   "source": [
    "agent_data = pd.read_csv(f'traffic/output_files/{experiment}/agent_data.csv')\n",
    "agent_data.head()"
   ]
  },
  {
   "cell_type": "markdown",
   "id": "0550b841",
   "metadata": {},
   "source": [
    "## Flow rate\n",
    "\n",
    "#### Flow rate: The flow rate is the number of cars that pass a certain point per unit of time."
   ]
  },
  {
   "cell_type": "code",
   "execution_count": 7,
   "id": "7ab885bf",
   "metadata": {},
   "outputs": [
    {
     "name": "stdout",
     "output_type": "stream",
     "text": [
      "The x positions of nodes:\n",
      "[0, 100, 200, 300, 400, 500, 600, 700, 800, 900, 1000, 1100, 1200]\n"
     ]
    }
   ],
   "source": [
    "nodes = []\n",
    "for node in lights_input_data:\n",
    "    nodes.append(node[\"pos\"])\n",
    "print(\"The x positions of nodes:\")\n",
    "print(nodes)"
   ]
  },
  {
   "cell_type": "code",
   "execution_count": 17,
   "id": "07d27d0e",
   "metadata": {},
   "outputs": [
    {
     "name": "stdout",
     "output_type": "stream",
     "text": [
      "flow rate =  6\n",
      "Between 800 and 1800 timestamps, there was 6 cars at point 600 with rounding to 10\n"
     ]
    }
   ],
   "source": [
    "t_start = 800\n",
    "t_end = 1800\n",
    "measure_point_x = 600\n",
    "accepted_dist_delta = 10\n",
    "\n",
    "# A function to calculate flow_rates easy\n",
    "def calc_flow_rate(t_start,t_end,measure_point_x,accepted_delta):\n",
    "    return agent_data[(agent_data[\"Is_alive\"]==True)&(agent_data[\"Step\"]>t_start)&(agent_data[\"Step\"]<t_end)&(abs(agent_data[\"X\"]-measure_point_x)<accepted_dist_delta)].drop_duplicates(\"AgentID\").shape[0]\n",
    "\n",
    "\n",
    "fr = calc_flow_rate( t_start = t_start,\n",
    "                t_end = t_end,\n",
    "                measure_point_x = measure_point_x,\n",
    "                accepted_delta = accepted_dist_delta)\n",
    "\n",
    "print(\"flow rate = \",fr)\n",
    "print(f\"Between {t_start} and {t_end} timestamps, there was {fr} cars at point {measure_point_x} with rounding to {accepted_dist_delta}\")\n"
   ]
  },
  {
   "cell_type": "code",
   "execution_count": 13,
   "id": "e2eaa713",
   "metadata": {},
   "outputs": [
    {
     "name": "stdout",
     "output_type": "stream",
     "text": [
      "[6, 8, 9, 9, 9, 10, 11, 12, 12, 12, 11, 12, 11, 11, 11, 12, 14, 15, 15, 15, 14, 15, 14, 13, 13, 13, 12, 11, 10, 10, 9, 11, 11, 11, 12, 10, 12, 12, 12, 10, 10]\n"
     ]
    },
    {
     "data": {
      "text/plain": [
       "11.463414634146341"
      ]
     },
     "execution_count": 13,
     "metadata": {},
     "output_type": "execute_result"
    }
   ],
   "source": [
    "## Rolling average \n",
    "\n",
    "def flow_rate_running_avg(t_start, t_end, measure_point_x, accepted_dist_delta, window_size,running_step=100):\n",
    "    flow_rates = []\n",
    "    for t in range(t_start, t_end + 1-window_size,running_step):\n",
    "        flow_rates.append(calc_flow_rate(t, t + window_size, measure_point_x, accepted_dist_delta)) # there was error so i changed flow_rate to calc_flow_rate\n",
    "    running_avg = sum(flow_rates) / len(flow_rates)\n",
    "    print(flow_rates) # check it out, A.\n",
    "    return running_avg\n",
    "\n",
    "flow_rate_running_avg(800,5800,600,1000,1000)"
   ]
  },
  {
   "cell_type": "markdown",
   "id": "7dc29efe",
   "metadata": {},
   "source": [
    "## Density\n",
    "#### Density: Traffic density is the number of cars per unit length of the road at any instant. "
   ]
  },
  {
   "cell_type": "code",
   "execution_count": 14,
   "id": "49f9bbb6",
   "metadata": {},
   "outputs": [
    {
     "name": "stdout",
     "output_type": "stream",
     "text": [
      "The number of cars between pos_x 500 and 600, at time 2000, divided by the distance of 100 is equal 0.04\n"
     ]
    }
   ],
   "source": [
    "x_start = 500\n",
    "x_end = 600\n",
    "time = 2000\n",
    "def calc_density(x_start,x_end,time):\n",
    "    return agent_data[(agent_data[\"Is_alive\"]==True)&(agent_data[\"X\"]>x_start)&(agent_data[\"X\"]<x_end)&(agent_data[\"Step\"]==time)].drop_duplicates(\"AgentID\").shape[0]/(x_end-x_start)\n",
    "d = calc_density(x_start,x_end,time)\n",
    "\n",
    "# density at time 2000 between  two given nodes (their x_positions)\n",
    "print(f\"The number of cars between pos_x {x_start} and {x_end}, at time {time}, divided by the distance of {x_end-x_start} is equal {d}\")"
   ]
  },
  {
   "cell_type": "code",
   "execution_count": 15,
   "id": "38b5b377",
   "metadata": {},
   "outputs": [
    {
     "data": {
      "text/plain": [
       "0.026446280991735505"
      ]
     },
     "execution_count": 15,
     "metadata": {},
     "output_type": "execute_result"
    }
   ],
   "source": [
    "# rolling average\n",
    "\n",
    "def density_running_avg(x_start,x_end,t_start, t_end, running_step=5):\n",
    "    densities = []\n",
    "    for t in range(t_start, t_end +1, running_step):\n",
    "        densities.append(calc_density(x_start,x_end,t))\n",
    "    running_avg = sum(densities) / len(densities)\n",
    "    return running_avg\n",
    "\n",
    "#running average for the same two nodes, using time range, not specific timestamp this time, the result should be simmilar\n",
    "density_running_avg(500,600,1800,2400)"
   ]
  }
 ],
 "metadata": {
  "kernelspec": {
   "display_name": "Python 3 (ipykernel)",
   "language": "python",
   "name": "python3"
  },
  "language_info": {
   "codemirror_mode": {
    "name": "ipython",
    "version": 3
   },
   "file_extension": ".py",
   "mimetype": "text/x-python",
   "name": "python",
   "nbconvert_exporter": "python",
   "pygments_lexer": "ipython3",
   "version": "3.9.15"
  }
 },
 "nbformat": 4,
 "nbformat_minor": 5
}
