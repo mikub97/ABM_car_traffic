{
 "cells": [
  {
   "cell_type": "code",
   "execution_count": 1,
   "id": "616faba9",
   "metadata": {},
   "outputs": [],
   "source": [
    "import pandas as pd\n",
    "import numpy as np\n",
    "import json"
   ]
  },
  {
   "cell_type": "code",
   "execution_count": 2,
   "id": "bfe772ca",
   "metadata": {},
   "outputs": [],
   "source": [
    "experiment = \"experiment_trafficlights\""
   ]
  },
  {
   "cell_type": "markdown",
   "id": "c5aa0527",
   "metadata": {},
   "source": [
    "### Reading input data"
   ]
  },
  {
   "cell_type": "code",
   "execution_count": 3,
   "id": "f8337549",
   "metadata": {},
   "outputs": [],
   "source": [
    "with open(f'traffic/input_files/{experiment}/traffic.json', \"r\") as read_file:\n",
    "    drivers_input_data = json.load(read_file)\n",
    "with open(f'traffic/input_files/{experiment}/drivers.json', \"r\") as read_file:\n",
    "    traffic_input_data = json.load(read_file)\n",
    "with open(f'traffic/input_files/{experiment}/lights.json', \"r\") as read_file:\n",
    "    lights_input_data = json.load(read_file)"
   ]
  },
  {
   "cell_type": "markdown",
   "id": "73e274d1",
   "metadata": {},
   "source": [
    "### Reading output data"
   ]
  },
  {
   "cell_type": "code",
   "execution_count": 4,
   "id": "91e956ee",
   "metadata": {},
   "outputs": [
    {
     "data": {
      "text/html": [
       "<div>\n",
       "<style scoped>\n",
       "    .dataframe tbody tr th:only-of-type {\n",
       "        vertical-align: middle;\n",
       "    }\n",
       "\n",
       "    .dataframe tbody tr th {\n",
       "        vertical-align: top;\n",
       "    }\n",
       "\n",
       "    .dataframe thead th {\n",
       "        text-align: right;\n",
       "    }\n",
       "</style>\n",
       "<table border=\"1\" class=\"dataframe\">\n",
       "  <thead>\n",
       "    <tr style=\"text-align: right;\">\n",
       "      <th></th>\n",
       "      <th>Step</th>\n",
       "      <th>AgentID</th>\n",
       "      <th>X</th>\n",
       "      <th>Y</th>\n",
       "      <th>Velocity</th>\n",
       "      <th>Current_lane</th>\n",
       "      <th>Is_alive</th>\n",
       "    </tr>\n",
       "  </thead>\n",
       "  <tbody>\n",
       "    <tr>\n",
       "      <th>0</th>\n",
       "      <td>1</td>\n",
       "      <td>0</td>\n",
       "      <td>0.175724</td>\n",
       "      <td>166.666667</td>\n",
       "      <td>[0.62000353 0.        ]</td>\n",
       "      <td>2</td>\n",
       "      <td>True</td>\n",
       "    </tr>\n",
       "    <tr>\n",
       "      <th>1</th>\n",
       "      <td>1</td>\n",
       "      <td>1</td>\n",
       "      <td>0.000000</td>\n",
       "      <td>166.666667</td>\n",
       "      <td>[0.39202186 0.        ]</td>\n",
       "      <td>2</td>\n",
       "      <td>False</td>\n",
       "    </tr>\n",
       "    <tr>\n",
       "      <th>2</th>\n",
       "      <td>1</td>\n",
       "      <td>2</td>\n",
       "      <td>0.000000</td>\n",
       "      <td>166.666667</td>\n",
       "      <td>[0.4315959 0.       ]</td>\n",
       "      <td>2</td>\n",
       "      <td>False</td>\n",
       "    </tr>\n",
       "    <tr>\n",
       "      <th>3</th>\n",
       "      <td>1</td>\n",
       "      <td>3</td>\n",
       "      <td>0.000000</td>\n",
       "      <td>166.666667</td>\n",
       "      <td>[0.50128436 0.        ]</td>\n",
       "      <td>2</td>\n",
       "      <td>False</td>\n",
       "    </tr>\n",
       "    <tr>\n",
       "      <th>4</th>\n",
       "      <td>1</td>\n",
       "      <td>4</td>\n",
       "      <td>0.053001</td>\n",
       "      <td>100.000000</td>\n",
       "      <td>[0.49998832 0.        ]</td>\n",
       "      <td>1</td>\n",
       "      <td>True</td>\n",
       "    </tr>\n",
       "  </tbody>\n",
       "</table>\n",
       "</div>"
      ],
      "text/plain": [
       "   Step  AgentID         X           Y                 Velocity  Current_lane  \\\n",
       "0     1        0  0.175724  166.666667  [0.62000353 0.        ]             2   \n",
       "1     1        1  0.000000  166.666667  [0.39202186 0.        ]             2   \n",
       "2     1        2  0.000000  166.666667    [0.4315959 0.       ]             2   \n",
       "3     1        3  0.000000  166.666667  [0.50128436 0.        ]             2   \n",
       "4     1        4  0.053001  100.000000  [0.49998832 0.        ]             1   \n",
       "\n",
       "   Is_alive  \n",
       "0      True  \n",
       "1     False  \n",
       "2     False  \n",
       "3     False  \n",
       "4      True  "
      ]
     },
     "execution_count": 4,
     "metadata": {},
     "output_type": "execute_result"
    }
   ],
   "source": [
    "agent_data = pd.read_csv(f'traffic/output_files/{experiment}/agent_data.csv')\n",
    "agent_data.head()"
   ]
  },
  {
   "cell_type": "code",
   "execution_count": null,
   "id": "ec961493",
   "metadata": {},
   "outputs": [],
   "source": []
  },
  {
   "cell_type": "markdown",
   "id": "0550b841",
   "metadata": {},
   "source": [
    "## Flow rate\n",
    "\n",
    "#### Flow rate: The flow rate is the number of cars that pass a certain point per unit of time."
   ]
  },
  {
   "cell_type": "code",
   "execution_count": 5,
   "id": "7ab885bf",
   "metadata": {},
   "outputs": [
    {
     "name": "stdout",
     "output_type": "stream",
     "text": [
      "The x positions of nodes:\n",
      "[0, 100, 200, 300, 400, 500, 600, 700, 800, 900, 1000, 1100, 1200]\n"
     ]
    }
   ],
   "source": [
    "nodes = []\n",
    "for node in lights_input_data:\n",
    "    nodes.append(node[\"pos\"])\n",
    "print(\"The x positions of nodes:\")\n",
    "print(nodes)"
   ]
  },
  {
   "cell_type": "code",
   "execution_count": 6,
   "id": "07d27d0e",
   "metadata": {},
   "outputs": [
    {
     "name": "stdout",
     "output_type": "stream",
     "text": [
      "flow rate =  48\n",
      "Between 1019 and 5875 timestamps, there was 48 cars at point 500 with rounding to 10\n"
     ]
    }
   ],
   "source": [
    "t_start = 1019\n",
    "t_end = 5875\n",
    "measure_point_x = 500\n",
    "accepted_dist_delta = 10\n",
    "\n",
    "# A function to calculate flow_rates easy\n",
    "def calc_flow_rate(t_start,t_end,measure_point_x,accepted_delta):\n",
    "    return agent_data[(agent_data[\"Is_alive\"]==True)&(agent_data[\"Step\"]>t_start)&(agent_data[\"Step\"]<t_end)&(abs(agent_data[\"X\"]-measure_point_x)<accepted_dist_delta)].drop_duplicates(\"AgentID\").shape[0]\n",
    "\n",
    "\n",
    "fr = calc_flow_rate( t_start = t_start,\n",
    "                t_end = t_end,\n",
    "                measure_point_x = measure_point_x,\n",
    "                accepted_delta = accepted_dist_delta)\n",
    "\n",
    "print(\"flow rate = \",fr)\n",
    "print(f\"Between {t_start} and {t_end} timestamps, there was {fr} cars at point {measure_point_x} with rounding to {accepted_dist_delta}\")\n"
   ]
  },
  {
   "cell_type": "code",
   "execution_count": 7,
   "id": "e2eaa713",
   "metadata": {},
   "outputs": [
    {
     "name": "stdout",
     "output_type": "stream",
     "text": [
      "[10, 11, 11, 10, 12, 12, 12, 13, 14, 15, 14, 12, 12, 12, 13, 11, 14, 13, 12, 12, 12, 11, 12, 12, 12, 12, 9, 8, 8, 7, 7, 8, 9, 8, 8, 9, 9, 10, 10]\n"
     ]
    },
    {
     "data": {
      "text/plain": [
       "10.923076923076923"
      ]
     },
     "execution_count": 7,
     "metadata": {},
     "output_type": "execute_result"
    }
   ],
   "source": [
    "## Rolling average \n",
    "\n",
    "def flow_rate_running_avg(t_start, t_end, measure_point_x, accepted_dist_delta, window_size,running_step=100):\n",
    "    flow_rates = []\n",
    "    for t in range(t_start, t_end + 1-window_size,running_step):\n",
    "        flow_rates.append(calc_flow_rate(t, t + window_size, measure_point_x, accepted_dist_delta)) # there was error so i changed flow_rate to calc_flow_rate\n",
    "    running_avg = sum(flow_rates) / len(flow_rates)\n",
    "    print(flow_rates) # check it out, A.\n",
    "    return running_avg\n",
    "\n",
    "flow_rate_running_avg(1019,5875,500,1000,1000)"
   ]
  },
  {
   "cell_type": "markdown",
   "id": "7dc29efe",
   "metadata": {},
   "source": [
    "## Density\n",
    "#### Density: Traffic density is the number of cars per unit length of the road at any instant. "
   ]
  },
  {
   "cell_type": "code",
   "execution_count": 8,
   "id": "49f9bbb6",
   "metadata": {},
   "outputs": [
    {
     "name": "stdout",
     "output_type": "stream",
     "text": [
      "The number of cars between pos_x 500 and 600, at time 2000, divided by the distance of 100 is equal 0.02\n"
     ]
    }
   ],
   "source": [
    "x_start = 500\n",
    "x_end = 600\n",
    "time = 2000\n",
    "def calc_density(x_start,x_end,time):\n",
    "    return agent_data[(agent_data[\"Is_alive\"]==True)&(agent_data[\"X\"]>x_start)&(agent_data[\"X\"]<x_end)&(agent_data[\"Step\"]==time)].drop_duplicates(\"AgentID\").shape[0]/(x_end-x_start)\n",
    "d = calc_density(x_start,x_end,time)\n",
    "\n",
    "# density at time 2000 between  two given nodes (their x_positions)\n",
    "print(f\"The number of cars between pos_x {x_start} and {x_end}, at time {time}, divided by the distance of {x_end-x_start} is equal {d}\")"
   ]
  },
  {
   "cell_type": "code",
   "execution_count": 9,
   "id": "38b5b377",
   "metadata": {},
   "outputs": [
    {
     "data": {
      "text/plain": [
       "0.023045267489711956"
      ]
     },
     "execution_count": 9,
     "metadata": {},
     "output_type": "execute_result"
    }
   ],
   "source": [
    "# rolling average\n",
    "\n",
    "def density_running_avg(x_start,x_end,t_start, t_end, running_step=5):\n",
    "    densities = []\n",
    "    for t in range(t_start, t_end +1, running_step):\n",
    "        densities.append(calc_density(x_start,x_end,t))\n",
    "    running_avg = sum(densities) / len(densities)\n",
    "    return running_avg\n",
    "\n",
    "#running average for the same two nodes, using time range, not specific timestamp this time, the result should be simmilar\n",
    "density_running_avg(500,600,1019,5875)"
   ]
  },
  {
   "cell_type": "markdown",
   "id": "0f8c04a0",
   "metadata": {},
   "source": [
    "## Velocity"
   ]
  },
  {
   "cell_type": "markdown",
   "id": "cca1633d",
   "metadata": {},
   "source": [
    "**Velocity: Average velocity of agents at some node at some instant**"
   ]
  },
  {
   "cell_type": "markdown",
   "id": "6c3fc86f",
   "metadata": {},
   "source": [
    "*I realized that the velocities were being recorded in some strange format, I tried to look through the code to change the way in which they were being saved but I did not know how to do it. So, I decided to do it the naive way, and I managed to get averaged velocity of an experiment. \n",
    "Now I want to try to find a way of saving this data we are collecting and maybe plotting the outcomes of a couple experiments from this naive data.*"
   ]
  },
  {
   "cell_type": "code",
   "execution_count": 20,
   "id": "db113c4d",
   "metadata": {},
   "outputs": [
    {
     "data": {
      "text/plain": [
       "str"
      ]
     },
     "execution_count": 20,
     "metadata": {},
     "output_type": "execute_result"
    }
   ],
   "source": [
    "agent_data[\"Velocity\"] = agent_data[\"Velocity\"].astype('str')\n",
    "type(agent_data[\"Velocity\"][0])"
   ]
  },
  {
   "cell_type": "code",
   "execution_count": 44,
   "id": "93ad9dd7",
   "metadata": {},
   "outputs": [
    {
     "ename": "KeyError",
     "evalue": "0",
     "output_type": "error",
     "traceback": [
      "\u001b[0;31m---------------------------------------------------------------------------\u001b[0m",
      "\u001b[0;31mKeyError\u001b[0m                                  Traceback (most recent call last)",
      "\u001b[0;32m~/opt/anaconda3/envs/python-course/lib/python3.9/site-packages/pandas/core/indexes/base.py\u001b[0m in \u001b[0;36mget_loc\u001b[0;34m(self, key, method, tolerance)\u001b[0m\n\u001b[1;32m   3802\u001b[0m             \u001b[0;32mtry\u001b[0m\u001b[0;34m:\u001b[0m\u001b[0;34m\u001b[0m\u001b[0;34m\u001b[0m\u001b[0m\n\u001b[0;32m-> 3803\u001b[0;31m                 \u001b[0;32mreturn\u001b[0m \u001b[0mself\u001b[0m\u001b[0;34m.\u001b[0m\u001b[0m_engine\u001b[0m\u001b[0;34m.\u001b[0m\u001b[0mget_loc\u001b[0m\u001b[0;34m(\u001b[0m\u001b[0mcasted_key\u001b[0m\u001b[0;34m)\u001b[0m\u001b[0;34m\u001b[0m\u001b[0;34m\u001b[0m\u001b[0m\n\u001b[0m\u001b[1;32m   3804\u001b[0m             \u001b[0;32mexcept\u001b[0m \u001b[0mKeyError\u001b[0m \u001b[0;32mas\u001b[0m \u001b[0merr\u001b[0m\u001b[0;34m:\u001b[0m\u001b[0;34m\u001b[0m\u001b[0;34m\u001b[0m\u001b[0m\n",
      "\u001b[0;32m~/opt/anaconda3/envs/python-course/lib/python3.9/site-packages/pandas/_libs/index.pyx\u001b[0m in \u001b[0;36mpandas._libs.index.IndexEngine.get_loc\u001b[0;34m()\u001b[0m\n",
      "\u001b[0;32m~/opt/anaconda3/envs/python-course/lib/python3.9/site-packages/pandas/_libs/index.pyx\u001b[0m in \u001b[0;36mpandas._libs.index.IndexEngine.get_loc\u001b[0;34m()\u001b[0m\n",
      "\u001b[0;32mpandas/_libs/hashtable_class_helper.pxi\u001b[0m in \u001b[0;36mpandas._libs.hashtable.Int64HashTable.get_item\u001b[0;34m()\u001b[0m\n",
      "\u001b[0;32mpandas/_libs/hashtable_class_helper.pxi\u001b[0m in \u001b[0;36mpandas._libs.hashtable.Int64HashTable.get_item\u001b[0;34m()\u001b[0m\n",
      "\u001b[0;31mKeyError\u001b[0m: 0",
      "\nThe above exception was the direct cause of the following exception:\n",
      "\u001b[0;31mKeyError\u001b[0m                                  Traceback (most recent call last)",
      "\u001b[0;32m/var/folders/9g/cf5w7h4j47l9cy_lg6r_0nzc0000gr/T/ipykernel_31036/2523135753.py\u001b[0m in \u001b[0;36m<module>\u001b[0;34m\u001b[0m\n\u001b[1;32m     21\u001b[0m         \u001b[0;32mreturn\u001b[0m \u001b[0mnp\u001b[0m\u001b[0;34m.\u001b[0m\u001b[0mmean\u001b[0m\u001b[0;34m(\u001b[0m\u001b[0mseries_of_velocities\u001b[0m\u001b[0;34m)\u001b[0m\u001b[0;34m\u001b[0m\u001b[0;34m\u001b[0m\u001b[0m\n\u001b[1;32m     22\u001b[0m \u001b[0;34m\u001b[0m\u001b[0m\n\u001b[0;32m---> 23\u001b[0;31m \u001b[0mvelocities_per_agent\u001b[0m \u001b[0;34m=\u001b[0m \u001b[0mcalc_mean_velocity\u001b[0m\u001b[0;34m(\u001b[0m\u001b[0magent_data\u001b[0m\u001b[0;34m,\u001b[0m \u001b[0;36m1019\u001b[0m\u001b[0;34m,\u001b[0m \u001b[0;36m5875\u001b[0m\u001b[0;34m,\u001b[0m \u001b[0;36m500\u001b[0m\u001b[0;34m,\u001b[0m \u001b[0;36m600\u001b[0m\u001b[0;34m)\u001b[0m\u001b[0;34m\u001b[0m\u001b[0;34m\u001b[0m\u001b[0m\n\u001b[0m\u001b[1;32m     24\u001b[0m \u001b[0mprint\u001b[0m\u001b[0;34m(\u001b[0m\u001b[0mvelocities_per_agent\u001b[0m\u001b[0;34m)\u001b[0m\u001b[0;34m\u001b[0m\u001b[0;34m\u001b[0m\u001b[0m\n",
      "\u001b[0;32m/var/folders/9g/cf5w7h4j47l9cy_lg6r_0nzc0000gr/T/ipykernel_31036/2523135753.py\u001b[0m in \u001b[0;36mcalc_mean_velocity\u001b[0;34m(agent_data_frame, t_start, t_end, x_start, x_end)\u001b[0m\n\u001b[1;32m      8\u001b[0m     \u001b[0mseries_of_velocities\u001b[0m \u001b[0;34m=\u001b[0m \u001b[0magent_data\u001b[0m\u001b[0;34m[\u001b[0m\u001b[0;34m(\u001b[0m\u001b[0magent_data\u001b[0m\u001b[0;34m[\u001b[0m\u001b[0;34m\"Is_alive\"\u001b[0m\u001b[0;34m]\u001b[0m\u001b[0;34m==\u001b[0m\u001b[0;32mTrue\u001b[0m\u001b[0;34m)\u001b[0m\u001b[0;34m&\u001b[0m\u001b[0;34m(\u001b[0m\u001b[0magent_data\u001b[0m\u001b[0;34m[\u001b[0m\u001b[0;34m'X'\u001b[0m\u001b[0;34m]\u001b[0m\u001b[0;34m>\u001b[0m\u001b[0mx_start\u001b[0m\u001b[0;34m)\u001b[0m\u001b[0;34m&\u001b[0m\u001b[0;34m(\u001b[0m\u001b[0magent_data\u001b[0m\u001b[0;34m[\u001b[0m\u001b[0;34m\"X\"\u001b[0m\u001b[0;34m]\u001b[0m\u001b[0;34m<\u001b[0m\u001b[0mx_end\u001b[0m\u001b[0;34m)\u001b[0m\u001b[0;34m&\u001b[0m\u001b[0;34m(\u001b[0m\u001b[0magent_data\u001b[0m\u001b[0;34m[\u001b[0m\u001b[0;34m\"Step\"\u001b[0m\u001b[0;34m]\u001b[0m\u001b[0;34m>\u001b[0m\u001b[0mt_start\u001b[0m\u001b[0;34m)\u001b[0m\u001b[0;34m&\u001b[0m\u001b[0;34m(\u001b[0m\u001b[0magent_data\u001b[0m\u001b[0;34m[\u001b[0m\u001b[0;34m\"Step\"\u001b[0m\u001b[0;34m]\u001b[0m\u001b[0;34m>\u001b[0m\u001b[0mt_end\u001b[0m\u001b[0;34m)\u001b[0m\u001b[0;34m]\u001b[0m\u001b[0;34m[\u001b[0m\u001b[0;34m\"Velocity\"\u001b[0m\u001b[0;34m]\u001b[0m\u001b[0;34m\u001b[0m\u001b[0;34m\u001b[0m\u001b[0m\n\u001b[1;32m      9\u001b[0m     \u001b[0;32mfor\u001b[0m \u001b[0mi\u001b[0m \u001b[0;32min\u001b[0m \u001b[0mrange\u001b[0m\u001b[0;34m(\u001b[0m\u001b[0mlen\u001b[0m\u001b[0;34m(\u001b[0m\u001b[0mseries_of_velocities\u001b[0m\u001b[0;34m)\u001b[0m\u001b[0;34m)\u001b[0m\u001b[0;34m:\u001b[0m\u001b[0;34m\u001b[0m\u001b[0;34m\u001b[0m\u001b[0m\n\u001b[0;32m---> 10\u001b[0;31m         \u001b[0mdata\u001b[0m \u001b[0;34m=\u001b[0m \u001b[0mseries_of_velocities\u001b[0m\u001b[0;34m[\u001b[0m\u001b[0mi\u001b[0m\u001b[0;34m]\u001b[0m\u001b[0;34m\u001b[0m\u001b[0;34m\u001b[0m\u001b[0m\n\u001b[0m\u001b[1;32m     11\u001b[0m         \u001b[0;32mif\u001b[0m \u001b[0mtype\u001b[0m\u001b[0;34m(\u001b[0m\u001b[0mdata\u001b[0m\u001b[0;34m)\u001b[0m \u001b[0;34m==\u001b[0m \u001b[0mstr\u001b[0m\u001b[0;34m:\u001b[0m\u001b[0;34m\u001b[0m\u001b[0;34m\u001b[0m\u001b[0m\n\u001b[1;32m     12\u001b[0m             \u001b[0mdata\u001b[0m \u001b[0;34m=\u001b[0m \u001b[0mseries_of_velocities\u001b[0m\u001b[0;34m[\u001b[0m\u001b[0mi\u001b[0m\u001b[0;34m]\u001b[0m\u001b[0;34m\u001b[0m\u001b[0;34m\u001b[0m\u001b[0m\n",
      "\u001b[0;32m~/opt/anaconda3/envs/python-course/lib/python3.9/site-packages/pandas/core/series.py\u001b[0m in \u001b[0;36m__getitem__\u001b[0;34m(self, key)\u001b[0m\n\u001b[1;32m    979\u001b[0m \u001b[0;34m\u001b[0m\u001b[0m\n\u001b[1;32m    980\u001b[0m         \u001b[0;32melif\u001b[0m \u001b[0mkey_is_scalar\u001b[0m\u001b[0;34m:\u001b[0m\u001b[0;34m\u001b[0m\u001b[0;34m\u001b[0m\u001b[0m\n\u001b[0;32m--> 981\u001b[0;31m             \u001b[0;32mreturn\u001b[0m \u001b[0mself\u001b[0m\u001b[0;34m.\u001b[0m\u001b[0m_get_value\u001b[0m\u001b[0;34m(\u001b[0m\u001b[0mkey\u001b[0m\u001b[0;34m)\u001b[0m\u001b[0;34m\u001b[0m\u001b[0;34m\u001b[0m\u001b[0m\n\u001b[0m\u001b[1;32m    982\u001b[0m \u001b[0;34m\u001b[0m\u001b[0m\n\u001b[1;32m    983\u001b[0m         \u001b[0;32mif\u001b[0m \u001b[0mis_hashable\u001b[0m\u001b[0;34m(\u001b[0m\u001b[0mkey\u001b[0m\u001b[0;34m)\u001b[0m\u001b[0;34m:\u001b[0m\u001b[0;34m\u001b[0m\u001b[0;34m\u001b[0m\u001b[0m\n",
      "\u001b[0;32m~/opt/anaconda3/envs/python-course/lib/python3.9/site-packages/pandas/core/series.py\u001b[0m in \u001b[0;36m_get_value\u001b[0;34m(self, label, takeable)\u001b[0m\n\u001b[1;32m   1087\u001b[0m \u001b[0;34m\u001b[0m\u001b[0m\n\u001b[1;32m   1088\u001b[0m         \u001b[0;31m# Similar to Index.get_value, but we do not fall back to positional\u001b[0m\u001b[0;34m\u001b[0m\u001b[0;34m\u001b[0m\u001b[0m\n\u001b[0;32m-> 1089\u001b[0;31m         \u001b[0mloc\u001b[0m \u001b[0;34m=\u001b[0m \u001b[0mself\u001b[0m\u001b[0;34m.\u001b[0m\u001b[0mindex\u001b[0m\u001b[0;34m.\u001b[0m\u001b[0mget_loc\u001b[0m\u001b[0;34m(\u001b[0m\u001b[0mlabel\u001b[0m\u001b[0;34m)\u001b[0m\u001b[0;34m\u001b[0m\u001b[0;34m\u001b[0m\u001b[0m\n\u001b[0m\u001b[1;32m   1090\u001b[0m         \u001b[0;32mreturn\u001b[0m \u001b[0mself\u001b[0m\u001b[0;34m.\u001b[0m\u001b[0mindex\u001b[0m\u001b[0;34m.\u001b[0m\u001b[0m_get_values_for_loc\u001b[0m\u001b[0;34m(\u001b[0m\u001b[0mself\u001b[0m\u001b[0;34m,\u001b[0m \u001b[0mloc\u001b[0m\u001b[0;34m,\u001b[0m \u001b[0mlabel\u001b[0m\u001b[0;34m)\u001b[0m\u001b[0;34m\u001b[0m\u001b[0;34m\u001b[0m\u001b[0m\n\u001b[1;32m   1091\u001b[0m \u001b[0;34m\u001b[0m\u001b[0m\n",
      "\u001b[0;32m~/opt/anaconda3/envs/python-course/lib/python3.9/site-packages/pandas/core/indexes/base.py\u001b[0m in \u001b[0;36mget_loc\u001b[0;34m(self, key, method, tolerance)\u001b[0m\n\u001b[1;32m   3803\u001b[0m                 \u001b[0;32mreturn\u001b[0m \u001b[0mself\u001b[0m\u001b[0;34m.\u001b[0m\u001b[0m_engine\u001b[0m\u001b[0;34m.\u001b[0m\u001b[0mget_loc\u001b[0m\u001b[0;34m(\u001b[0m\u001b[0mcasted_key\u001b[0m\u001b[0;34m)\u001b[0m\u001b[0;34m\u001b[0m\u001b[0;34m\u001b[0m\u001b[0m\n\u001b[1;32m   3804\u001b[0m             \u001b[0;32mexcept\u001b[0m \u001b[0mKeyError\u001b[0m \u001b[0;32mas\u001b[0m \u001b[0merr\u001b[0m\u001b[0;34m:\u001b[0m\u001b[0;34m\u001b[0m\u001b[0;34m\u001b[0m\u001b[0m\n\u001b[0;32m-> 3805\u001b[0;31m                 \u001b[0;32mraise\u001b[0m \u001b[0mKeyError\u001b[0m\u001b[0;34m(\u001b[0m\u001b[0mkey\u001b[0m\u001b[0;34m)\u001b[0m \u001b[0;32mfrom\u001b[0m \u001b[0merr\u001b[0m\u001b[0;34m\u001b[0m\u001b[0;34m\u001b[0m\u001b[0m\n\u001b[0m\u001b[1;32m   3806\u001b[0m             \u001b[0;32mexcept\u001b[0m \u001b[0mTypeError\u001b[0m\u001b[0;34m:\u001b[0m\u001b[0;34m\u001b[0m\u001b[0;34m\u001b[0m\u001b[0m\n\u001b[1;32m   3807\u001b[0m                 \u001b[0;31m# If we have a listlike key, _check_indexing_error will raise\u001b[0m\u001b[0;34m\u001b[0m\u001b[0;34m\u001b[0m\u001b[0m\n",
      "\u001b[0;31mKeyError\u001b[0m: 0"
     ]
    }
   ],
   "source": [
    "t_start = 1019\n",
    "t_end = 5875\n",
    "x_start = 500\n",
    "x_end = 600\n",
    "\n",
    "\n",
    "def calc_mean_velocity(agent_data_frame, t_start, t_end, x_start, x_end):\n",
    "    series_of_velocities = agent_data[(agent_data[\"Is_alive\"]==True)&(agent_data['X']>x_start)&(agent_data[\"X\"]<x_end)&(agent_data[\"Step\"]>t_start)&(agent_data[\"Step\"]>t_end)][\"Velocity\"]\n",
    "    for i in range(len(series_of_velocities)):\n",
    "        data = series_of_velocities[i]\n",
    "        if type(data) == str:\n",
    "            data = series_of_velocities[i]\n",
    "            data = data.lstrip('[')\n",
    "            data = data.rstrip(' 0.       ]')\n",
    "            data = float(data)\n",
    "            series_of_velocities[i] = data\n",
    "        elif type(data) == float:\n",
    "            pass\n",
    "        else:\n",
    "            pass\n",
    "        return np.mean(series_of_velocities)\n",
    "\n",
    "velocities_per_agent = calc_mean_velocity(agent_data, 1019, 5875, 500, 600)\n",
    "print(velocities_per_agent)"
   ]
  },
  {
   "cell_type": "code",
   "execution_count": 41,
   "id": "ed5c4067",
   "metadata": {},
   "outputs": [
    {
     "data": {
      "text/plain": [
       "236958    0.418925\n",
       "236960    0.341535\n",
       "236963    0.560293\n",
       "236972    0.418925\n",
       "236974    0.341535\n",
       "            ...   \n",
       "239612    0.560293\n",
       "239624    0.560293\n",
       "239636    0.560293\n",
       "239648    0.560293\n",
       "239660    0.560293\n",
       "Name: Velocity, Length: 489, dtype: object"
      ]
     },
     "execution_count": 41,
     "metadata": {},
     "output_type": "execute_result"
    }
   ],
   "source": [
    "series_of_velocities = agent_data[(agent_data[\"Is_alive\"]==True)&(agent_data['X']>x_start)&(agent_data[\"X\"]<x_end)&(agent_data[\"Step\"]>t_start)&(agent_data[\"Step\"]>t_end)][\"Velocity\"]\n",
    "series_of_velocities"
   ]
  },
  {
   "cell_type": "code",
   "execution_count": 43,
   "id": "bec359f7",
   "metadata": {},
   "outputs": [
    {
     "data": {
      "text/plain": [
       "0.4472527560122694"
      ]
     },
     "execution_count": 43,
     "metadata": {},
     "output_type": "execute_result"
    }
   ],
   "source": [
    "np.mean(series_of_velocities)"
   ]
  },
  {
   "cell_type": "markdown",
   "id": "443c7dd3",
   "metadata": {},
   "source": [
    "## Making a dataframe that collects the parameters and results of experiments we run? "
   ]
  },
  {
   "cell_type": "code",
   "execution_count": null,
   "id": "6884221e",
   "metadata": {},
   "outputs": [],
   "source": []
  }
 ],
 "metadata": {
  "kernelspec": {
   "display_name": "Python 3 (ipykernel)",
   "language": "python",
   "name": "python3"
  },
  "language_info": {
   "codemirror_mode": {
    "name": "ipython",
    "version": 3
   },
   "file_extension": ".py",
   "mimetype": "text/x-python",
   "name": "python",
   "nbconvert_exporter": "python",
   "pygments_lexer": "ipython3",
   "version": "3.9.15"
  }
 },
 "nbformat": 4,
 "nbformat_minor": 5
}
