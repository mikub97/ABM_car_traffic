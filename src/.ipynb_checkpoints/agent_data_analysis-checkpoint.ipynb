{
 "cells": [
  {
   "cell_type": "code",
   "execution_count": 1,
   "id": "616faba9",
   "metadata": {},
   "outputs": [],
   "source": [
    "import pandas as pd\n",
    "import numpy as np\n",
    "import json"
   ]
  },
  {
   "cell_type": "code",
   "execution_count": 2,
   "id": "bfe772ca",
   "metadata": {},
   "outputs": [],
   "source": [
    "experiment = \"experiment_trafficlights\""
   ]
  },
  {
   "cell_type": "markdown",
   "id": "c5aa0527",
   "metadata": {},
   "source": [
    "### Reading input data"
   ]
  },
  {
   "cell_type": "code",
   "execution_count": 45,
   "id": "f8337549",
   "metadata": {},
   "outputs": [],
   "source": [
    "with open(f'traffic/input_files/{experiment}/traffic.json', \"r\") as read_file:\n",
    "    drivers_input_data = json.load(read_file)\n",
    "with open(f'traffic/input_files/{experiment}/drivers.json', \"r\") as read_file:\n",
    "    traffic_input_data = json.load(read_file)\n",
    "with open(f'traffic/input_files/{experiment}/lights.json', \"r\") as read_file:\n",
    "    lights_input_data = json.load(read_file)"
   ]
  },
  {
   "cell_type": "markdown",
   "id": "73e274d1",
   "metadata": {},
   "source": [
    "### Reading output data"
   ]
  },
  {
   "cell_type": "code",
   "execution_count": 46,
   "id": "91e956ee",
   "metadata": {},
   "outputs": [
    {
     "data": {
      "text/html": [
       "<div>\n",
       "<style scoped>\n",
       "    .dataframe tbody tr th:only-of-type {\n",
       "        vertical-align: middle;\n",
       "    }\n",
       "\n",
       "    .dataframe tbody tr th {\n",
       "        vertical-align: top;\n",
       "    }\n",
       "\n",
       "    .dataframe thead th {\n",
       "        text-align: right;\n",
       "    }\n",
       "</style>\n",
       "<table border=\"1\" class=\"dataframe\">\n",
       "  <thead>\n",
       "    <tr style=\"text-align: right;\">\n",
       "      <th></th>\n",
       "      <th>Step</th>\n",
       "      <th>AgentID</th>\n",
       "      <th>X</th>\n",
       "      <th>Y</th>\n",
       "      <th>Velocity</th>\n",
       "      <th>Current_lane</th>\n",
       "      <th>Is_alive</th>\n",
       "    </tr>\n",
       "  </thead>\n",
       "  <tbody>\n",
       "    <tr>\n",
       "      <th>0</th>\n",
       "      <td>1</td>\n",
       "      <td>0</td>\n",
       "      <td>0.272264</td>\n",
       "      <td>33.333333</td>\n",
       "      <td>[0.61548076 0.        ]</td>\n",
       "      <td>0</td>\n",
       "      <td>True</td>\n",
       "    </tr>\n",
       "    <tr>\n",
       "      <th>1</th>\n",
       "      <td>1</td>\n",
       "      <td>1</td>\n",
       "      <td>0.060217</td>\n",
       "      <td>100.000000</td>\n",
       "      <td>[0.39023224 0.        ]</td>\n",
       "      <td>1</td>\n",
       "      <td>True</td>\n",
       "    </tr>\n",
       "    <tr>\n",
       "      <th>2</th>\n",
       "      <td>1</td>\n",
       "      <td>2</td>\n",
       "      <td>0.000000</td>\n",
       "      <td>100.000000</td>\n",
       "      <td>[0.60334443 0.        ]</td>\n",
       "      <td>1</td>\n",
       "      <td>False</td>\n",
       "    </tr>\n",
       "    <tr>\n",
       "      <th>3</th>\n",
       "      <td>1</td>\n",
       "      <td>3</td>\n",
       "      <td>0.000000</td>\n",
       "      <td>100.000000</td>\n",
       "      <td>[0.56769634 0.        ]</td>\n",
       "      <td>1</td>\n",
       "      <td>False</td>\n",
       "    </tr>\n",
       "    <tr>\n",
       "      <th>4</th>\n",
       "      <td>1</td>\n",
       "      <td>4</td>\n",
       "      <td>0.000000</td>\n",
       "      <td>33.333333</td>\n",
       "      <td>[0.57745016 0.        ]</td>\n",
       "      <td>0</td>\n",
       "      <td>False</td>\n",
       "    </tr>\n",
       "  </tbody>\n",
       "</table>\n",
       "</div>"
      ],
      "text/plain": [
       "   Step  AgentID         X           Y                 Velocity  Current_lane  \\\n",
       "0     1        0  0.272264   33.333333  [0.61548076 0.        ]             0   \n",
       "1     1        1  0.060217  100.000000  [0.39023224 0.        ]             1   \n",
       "2     1        2  0.000000  100.000000  [0.60334443 0.        ]             1   \n",
       "3     1        3  0.000000  100.000000  [0.56769634 0.        ]             1   \n",
       "4     1        4  0.000000   33.333333  [0.57745016 0.        ]             0   \n",
       "\n",
       "   Is_alive  \n",
       "0      True  \n",
       "1      True  \n",
       "2     False  \n",
       "3     False  \n",
       "4     False  "
      ]
     },
     "execution_count": 46,
     "metadata": {},
     "output_type": "execute_result"
    }
   ],
   "source": [
    "agent_data = pd.read_csv(f'traffic/output_files/{experiment}/agent_data.csv')\n",
    "agent_data.head()"
   ]
  },
  {
   "cell_type": "code",
   "execution_count": null,
   "id": "ec961493",
   "metadata": {},
   "outputs": [],
   "source": []
  },
  {
   "cell_type": "markdown",
   "id": "0550b841",
   "metadata": {},
   "source": [
    "## Flow rate\n",
    "\n",
    "#### Flow rate: The flow rate is the number of cars that pass a certain point per unit of time."
   ]
  },
  {
   "cell_type": "code",
   "execution_count": 47,
   "id": "7ab885bf",
   "metadata": {},
   "outputs": [
    {
     "name": "stdout",
     "output_type": "stream",
     "text": [
      "The x positions of nodes:\n",
      "[0, 100, 200, 300, 400, 500, 600, 700, 800, 900, 1000, 1100, 1200]\n"
     ]
    }
   ],
   "source": [
    "nodes = []\n",
    "for node in lights_input_data:\n",
    "    nodes.append(node[\"pos\"])\n",
    "print(\"The x positions of nodes:\")\n",
    "print(nodes)"
   ]
  },
  {
   "cell_type": "code",
   "execution_count": 50,
   "id": "07d27d0e",
   "metadata": {},
   "outputs": [
    {
     "name": "stdout",
     "output_type": "stream",
     "text": [
      "flow rate =  50\n",
      "Between 851 and 5589 timestamps, there was 50 cars at point 500 with rounding to 10\n"
     ]
    }
   ],
   "source": [
    "t_start = 851\n",
    "t_end = 5589\n",
    "measure_point_x = 500\n",
    "accepted_dist_delta = 10\n",
    "\n",
    "# A function to calculate flow_rates easy\n",
    "def calc_flow_rate(t_start,t_end,measure_point_x,accepted_delta):\n",
    "    return agent_data[(agent_data[\"Is_alive\"]==True)&(agent_data[\"Step\"]>t_start)&(agent_data[\"Step\"]<t_end)&(abs(agent_data[\"X\"]-measure_point_x)<accepted_dist_delta)].drop_duplicates(\"AgentID\").shape[0]\n",
    "\n",
    "\n",
    "fr = calc_flow_rate( t_start = t_start,\n",
    "                t_end = t_end,\n",
    "                measure_point_x = measure_point_x,\n",
    "                accepted_delta = accepted_dist_delta)\n",
    "\n",
    "print(\"flow rate = \",fr)\n",
    "print(f\"Between {t_start} and {t_end} timestamps, there was {fr} cars at point {measure_point_x} with rounding to {accepted_dist_delta}\")\n"
   ]
  },
  {
   "cell_type": "code",
   "execution_count": 51,
   "id": "e2eaa713",
   "metadata": {},
   "outputs": [
    {
     "name": "stdout",
     "output_type": "stream",
     "text": [
      "[11, 10, 9, 11, 12, 11, 10, 10, 10, 11, 10, 11, 11, 12, 11, 10, 11, 12, 14, 12, 12, 13, 15, 15, 14, 14, 16, 14, 12, 12, 12, 11, 9, 10, 12, 10, 10, 8]\n"
     ]
    },
    {
     "data": {
      "text/plain": [
       "11.526315789473685"
      ]
     },
     "execution_count": 51,
     "metadata": {},
     "output_type": "execute_result"
    }
   ],
   "source": [
    "## Rolling average \n",
    "\n",
    "def flow_rate_running_avg(t_start, t_end, measure_point_x, accepted_dist_delta, window_size,running_step=100):\n",
    "    flow_rates = []\n",
    "    for t in range(t_start, t_end + 1-window_size,running_step):\n",
    "        flow_rates.append(calc_flow_rate(t, t + window_size, measure_point_x, accepted_dist_delta)) # there was error so i changed flow_rate to calc_flow_rate\n",
    "    running_avg = sum(flow_rates) / len(flow_rates)\n",
    "    print(flow_rates) # check it out, A.\n",
    "    return running_avg\n",
    "\n",
    "flow_rate_running_avg(851,5589,500,1000,1000)"
   ]
  },
  {
   "cell_type": "markdown",
   "id": "7dc29efe",
   "metadata": {},
   "source": [
    "## Density\n",
    "#### Density: Traffic density is the number of cars per unit length of the road at any instant. "
   ]
  },
  {
   "cell_type": "code",
   "execution_count": 52,
   "id": "49f9bbb6",
   "metadata": {},
   "outputs": [
    {
     "name": "stdout",
     "output_type": "stream",
     "text": [
      "The number of cars between pos_x 500 and 600, at time 2000, divided by the distance of 100 is equal 0.02\n"
     ]
    }
   ],
   "source": [
    "x_start = 500\n",
    "x_end = 600\n",
    "time = 2000\n",
    "def calc_density(x_start,x_end,time):\n",
    "    return agent_data[(agent_data[\"Is_alive\"]==True)&(agent_data[\"X\"]>x_start)&(agent_data[\"X\"]<x_end)&(agent_data[\"Step\"]==time)].drop_duplicates(\"AgentID\").shape[0]/(x_end-x_start)\n",
    "d = calc_density(x_start,x_end,time)\n",
    "\n",
    "# density at time 2000 between  two given nodes (their x_positions)\n",
    "print(f\"The number of cars between pos_x {x_start} and {x_end}, at time {time}, divided by the distance of {x_end-x_start} is equal {d}\")"
   ]
  },
  {
   "cell_type": "code",
   "execution_count": 53,
   "id": "38b5b377",
   "metadata": {},
   "outputs": [
    {
     "data": {
      "text/plain": [
       "0.025548523206751047"
      ]
     },
     "execution_count": 53,
     "metadata": {},
     "output_type": "execute_result"
    }
   ],
   "source": [
    "# rolling average\n",
    "\n",
    "def density_running_avg(x_start,x_end,t_start, t_end, running_step=5):\n",
    "    densities = []\n",
    "    for t in range(t_start, t_end +1, running_step):\n",
    "        densities.append(calc_density(x_start,x_end,t))\n",
    "    running_avg = sum(densities) / len(densities)\n",
    "    return running_avg\n",
    "\n",
    "#running average for the same two nodes, using time range, not specific timestamp this time, the result should be simmilar\n",
    "density_running_avg(500,600,851,5589)"
   ]
  },
  {
   "cell_type": "markdown",
   "id": "0f8c04a0",
   "metadata": {},
   "source": [
    "## Velocity"
   ]
  },
  {
   "cell_type": "markdown",
   "id": "cca1633d",
   "metadata": {},
   "source": [
    "**Velocity: Average velocity of agents at some node at some instant**"
   ]
  },
  {
   "cell_type": "markdown",
   "id": "0c50d75d",
   "metadata": {},
   "source": [
    "*I realized that the velocities were being recorded in some strange format, I tried to look through the code to change the way in which they were being saved but I did not know how to do it. So, I decided to do it the naive way, and I managed to get averaged velocity of an experiment. \n",
    "Now I want to try to find a way of saving this data we are collecting and maybe plotting the outcomes of a couple experiments from this naive data.*"
   ]
  },
  {
   "cell_type": "code",
   "execution_count": 20,
   "id": "db113c4d",
   "metadata": {},
   "outputs": [
    {
     "data": {
      "text/plain": [
       "str"
      ]
     },
     "execution_count": 20,
     "metadata": {},
     "output_type": "execute_result"
    }
   ],
   "source": [
    "agent_data[\"Velocity\"] = agent_data[\"Velocity\"].astype('str')\n",
    "type(agent_data[\"Velocity\"][0])"
   ]
  },
  {
   "cell_type": "code",
   "execution_count": 54,
   "id": "782cdf46",
   "metadata": {},
   "outputs": [
    {
     "name": "stdout",
     "output_type": "stream",
     "text": [
      "None\n"
     ]
    }
   ],
   "source": [
    "t_start = 851\n",
    "t_end = 5589\n",
    "x_start = 500\n",
    "x_end = 600\n",
    "\n",
    "\n",
    "def calc_mean_velocity(agent_data_frame, t_start, t_end, x_start, x_end):\n",
    "    agent_data[\"Velocity\"] = agent_data[\"Velocity\"].astype('str')\n",
    "    series_of_velocities = agent_data[(agent_data[\"Is_alive\"]==True)&(agent_data['X']>x_start)&(agent_data[\"X\"]<x_end)&(agent_data[\"Step\"]>t_start)&(agent_data[\"Step\"]>t_end)][\"Velocity\"]\n",
    "    for i in range(len(series_of_velocities)):\n",
    "        data = series_of_velocities[i]\n",
    "        if type(data) == str:\n",
    "            data = series_of_velocities[i]\n",
    "            data = data.lstrip('[')\n",
    "            data = data.rstrip(' 0.       ]')\n",
    "            data = float(data)\n",
    "            series_of_velocities[i] = data\n",
    "        elif type(data) == float:\n",
    "            pass\n",
    "        else:\n",
    "            pass\n",
    "        return np.mean(series_of_velocities)\n",
    "\n",
    "velocities_per_agent = calc_mean_velocity(agent_data, 1019, 5875, 500, 600)\n",
    "print(velocities_per_agent)"
   ]
  },
  {
   "cell_type": "code",
   "execution_count": 55,
   "id": "609f4936",
   "metadata": {},
   "outputs": [
    {
     "data": {
      "text/plain": [
       "Series([], Name: Velocity, dtype: object)"
      ]
     },
     "execution_count": 55,
     "metadata": {},
     "output_type": "execute_result"
    }
   ],
   "source": [
    "series_of_velocities = agent_data[(agent_data[\"Is_alive\"]==True)&(agent_data['X']>x_start)&(agent_data[\"X\"]<x_end)&(agent_data[\"Step\"]>t_start)&(agent_data[\"Step\"]>t_end)][\"Velocity\"]\n",
    "series_of_velocities"
   ]
  },
  {
   "cell_type": "code",
   "execution_count": 43,
   "id": "db30e2d7",
   "metadata": {},
   "outputs": [
    {
     "data": {
      "text/plain": [
       "0.4472527560122694"
      ]
     },
     "execution_count": 43,
     "metadata": {},
     "output_type": "execute_result"
    }
   ],
   "source": [
    "np.mean(series_of_velocities)"
   ]
  },
  {
   "cell_type": "code",
   "execution_count": 56,
   "id": "802d104a",
   "metadata": {},
   "outputs": [
    {
     "data": {
      "text/html": [
       "<div>\n",
       "<style scoped>\n",
       "    .dataframe tbody tr th:only-of-type {\n",
       "        vertical-align: middle;\n",
       "    }\n",
       "\n",
       "    .dataframe tbody tr th {\n",
       "        vertical-align: top;\n",
       "    }\n",
       "\n",
       "    .dataframe thead th {\n",
       "        text-align: right;\n",
       "    }\n",
       "</style>\n",
       "<table border=\"1\" class=\"dataframe\">\n",
       "  <thead>\n",
       "    <tr style=\"text-align: right;\">\n",
       "      <th></th>\n",
       "      <th>Step</th>\n",
       "      <th>AgentID</th>\n",
       "      <th>X</th>\n",
       "      <th>Y</th>\n",
       "      <th>Velocity</th>\n",
       "      <th>Current_lane</th>\n",
       "      <th>Is_alive</th>\n",
       "    </tr>\n",
       "  </thead>\n",
       "  <tbody>\n",
       "    <tr>\n",
       "      <th>0</th>\n",
       "      <td>1</td>\n",
       "      <td>0</td>\n",
       "      <td>0.272264</td>\n",
       "      <td>33.333333</td>\n",
       "      <td>[0.61548076 0.        ]</td>\n",
       "      <td>0</td>\n",
       "      <td>True</td>\n",
       "    </tr>\n",
       "    <tr>\n",
       "      <th>1</th>\n",
       "      <td>1</td>\n",
       "      <td>1</td>\n",
       "      <td>0.060217</td>\n",
       "      <td>100.000000</td>\n",
       "      <td>[0.39023224 0.        ]</td>\n",
       "      <td>1</td>\n",
       "      <td>True</td>\n",
       "    </tr>\n",
       "    <tr>\n",
       "      <th>2</th>\n",
       "      <td>1</td>\n",
       "      <td>2</td>\n",
       "      <td>0.000000</td>\n",
       "      <td>100.000000</td>\n",
       "      <td>[0.60334443 0.        ]</td>\n",
       "      <td>1</td>\n",
       "      <td>False</td>\n",
       "    </tr>\n",
       "    <tr>\n",
       "      <th>3</th>\n",
       "      <td>1</td>\n",
       "      <td>3</td>\n",
       "      <td>0.000000</td>\n",
       "      <td>100.000000</td>\n",
       "      <td>[0.56769634 0.        ]</td>\n",
       "      <td>1</td>\n",
       "      <td>False</td>\n",
       "    </tr>\n",
       "    <tr>\n",
       "      <th>4</th>\n",
       "      <td>1</td>\n",
       "      <td>4</td>\n",
       "      <td>0.000000</td>\n",
       "      <td>33.333333</td>\n",
       "      <td>[0.57745016 0.        ]</td>\n",
       "      <td>0</td>\n",
       "      <td>False</td>\n",
       "    </tr>\n",
       "    <tr>\n",
       "      <th>...</th>\n",
       "      <td>...</td>\n",
       "      <td>...</td>\n",
       "      <td>...</td>\n",
       "      <td>...</td>\n",
       "      <td>...</td>\n",
       "      <td>...</td>\n",
       "      <td>...</td>\n",
       "    </tr>\n",
       "    <tr>\n",
       "      <th>238489</th>\n",
       "      <td>7515</td>\n",
       "      <td>45</td>\n",
       "      <td>1198.719097</td>\n",
       "      <td>33.333333</td>\n",
       "      <td>[0.30044499 0.        ]</td>\n",
       "      <td>0</td>\n",
       "      <td>True</td>\n",
       "    </tr>\n",
       "    <tr>\n",
       "      <th>238490</th>\n",
       "      <td>7516</td>\n",
       "      <td>45</td>\n",
       "      <td>1199.019542</td>\n",
       "      <td>33.333333</td>\n",
       "      <td>[0.30044499 0.        ]</td>\n",
       "      <td>0</td>\n",
       "      <td>True</td>\n",
       "    </tr>\n",
       "    <tr>\n",
       "      <th>238491</th>\n",
       "      <td>7517</td>\n",
       "      <td>45</td>\n",
       "      <td>1199.319987</td>\n",
       "      <td>33.333333</td>\n",
       "      <td>[0.30044499 0.        ]</td>\n",
       "      <td>0</td>\n",
       "      <td>True</td>\n",
       "    </tr>\n",
       "    <tr>\n",
       "      <th>238492</th>\n",
       "      <td>7518</td>\n",
       "      <td>45</td>\n",
       "      <td>1199.620432</td>\n",
       "      <td>33.333333</td>\n",
       "      <td>[0.30044499 0.        ]</td>\n",
       "      <td>0</td>\n",
       "      <td>True</td>\n",
       "    </tr>\n",
       "    <tr>\n",
       "      <th>238493</th>\n",
       "      <td>7519</td>\n",
       "      <td>45</td>\n",
       "      <td>1199.920877</td>\n",
       "      <td>33.333333</td>\n",
       "      <td>[0.30044499 0.        ]</td>\n",
       "      <td>0</td>\n",
       "      <td>True</td>\n",
       "    </tr>\n",
       "  </tbody>\n",
       "</table>\n",
       "<p>238494 rows × 7 columns</p>\n",
       "</div>"
      ],
      "text/plain": [
       "        Step  AgentID            X           Y                 Velocity  \\\n",
       "0          1        0     0.272264   33.333333  [0.61548076 0.        ]   \n",
       "1          1        1     0.060217  100.000000  [0.39023224 0.        ]   \n",
       "2          1        2     0.000000  100.000000  [0.60334443 0.        ]   \n",
       "3          1        3     0.000000  100.000000  [0.56769634 0.        ]   \n",
       "4          1        4     0.000000   33.333333  [0.57745016 0.        ]   \n",
       "...      ...      ...          ...         ...                      ...   \n",
       "238489  7515       45  1198.719097   33.333333  [0.30044499 0.        ]   \n",
       "238490  7516       45  1199.019542   33.333333  [0.30044499 0.        ]   \n",
       "238491  7517       45  1199.319987   33.333333  [0.30044499 0.        ]   \n",
       "238492  7518       45  1199.620432   33.333333  [0.30044499 0.        ]   \n",
       "238493  7519       45  1199.920877   33.333333  [0.30044499 0.        ]   \n",
       "\n",
       "        Current_lane  Is_alive  \n",
       "0                  0      True  \n",
       "1                  1      True  \n",
       "2                  1     False  \n",
       "3                  1     False  \n",
       "4                  0     False  \n",
       "...              ...       ...  \n",
       "238489             0      True  \n",
       "238490             0      True  \n",
       "238491             0      True  \n",
       "238492             0      True  \n",
       "238493             0      True  \n",
       "\n",
       "[238494 rows x 7 columns]"
      ]
     },
     "execution_count": 56,
     "metadata": {},
     "output_type": "execute_result"
    }
   ],
   "source": [
    "agent_data"
   ]
  },
  {
   "cell_type": "code",
   "execution_count": null,
   "id": "26e30ff8",
   "metadata": {},
   "outputs": [],
   "source": []
  },
  {
   "cell_type": "code",
   "execution_count": null,
   "id": "d95697a8",
   "metadata": {},
   "outputs": [],
   "source": []
  },
  {
   "cell_type": "markdown",
   "id": "906e8bf2",
   "metadata": {},
   "source": [
    "## Making a dataframe that collects the parameters and results of experiments we run? "
   ]
  },
  {
   "cell_type": "code",
   "execution_count": null,
   "id": "656a1bc6",
   "metadata": {},
   "outputs": [],
   "source": []
  }
 ],
 "metadata": {
  "kernelspec": {
   "display_name": "Python 3 (ipykernel)",
   "language": "python",
   "name": "python3"
  },
  "language_info": {
   "codemirror_mode": {
    "name": "ipython",
    "version": 3
   },
   "file_extension": ".py",
   "mimetype": "text/x-python",
   "name": "python",
   "nbconvert_exporter": "python",
   "pygments_lexer": "ipython3",
   "version": "3.9.15"
  }
 },
 "nbformat": 4,
 "nbformat_minor": 5
}
